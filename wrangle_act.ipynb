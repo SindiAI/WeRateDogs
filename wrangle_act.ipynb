{
 "cells": [
  {
   "cell_type": "code",
   "execution_count": 1,
   "id": "83c6fb64-7b05-4c5e-851e-694440ac42fb",
   "metadata": {},
   "outputs": [],
   "source": [
    "import pandas as pd\n",
    "import numpy as np\n",
    "import requests\n",
    "import tweepy\n",
    "import json\n",
    "import matplotlib.pyplot as plt\n",
    "pd.set_option('display.max_columns',500)\n",
    "pd.set_option('max_colwidth', 800)"
   ]
  },
  {
   "cell_type": "markdown",
   "id": "b1123d45-951b-40b3-ad42-1ad0311be1b1",
   "metadata": {},
   "source": [
    "# GATHERING"
   ]
  },
  {
   "cell_type": "code",
   "execution_count": 10,
   "id": "ab36cfb9-91c8-4468-b8ca-4dc279cafd2e",
   "metadata": {},
   "outputs": [],
   "source": [
    "twitter_arc = pd.read_csv('twitter-archive-enhanced.csv')\n",
    "#twitter_arc.tail()"
   ]
  },
  {
   "cell_type": "raw",
   "id": "5d07a248-5829-4e16-8dd5-d68dd99b3e4c",
   "metadata": {},
   "source": [
    "url = \"https://d17h27t6h515a5.cloudfront.net/topher/2017/August/599fd2ad_image-predictions/image-predictions.tsv\"\n",
    "response = requests.get(url)\n",
    "with open(\"image_predictions.tsv\", mode ='wb') as file:\n",
    "    file.write(response.content)\n"
   ]
  },
  {
   "cell_type": "code",
   "execution_count": 2,
   "id": "da8c14de-0782-40fe-bfcc-da0af8759fda",
   "metadata": {},
   "outputs": [],
   "source": [
    "images_pred = pd.read_csv('image_predictions.tsv', sep=\"\\t\")\n",
    "#images_pred.head()"
   ]
  },
  {
   "cell_type": "code",
   "execution_count": 3,
   "id": "bb235401-8834-461b-b5d1-13b16ad519bd",
   "metadata": {},
   "outputs": [],
   "source": [
    "import tweepy\n",
    "from tweepy import OAuthHandler\n",
    "import json"
   ]
  },
  {
   "cell_type": "code",
   "execution_count": 11,
   "id": "7a3ac382-7757-4884-9672-22e77fcd849d",
   "metadata": {},
   "outputs": [
    {
     "data": {
      "text/plain": [
       "2356"
      ]
     },
     "execution_count": 11,
     "metadata": {},
     "output_type": "execute_result"
    }
   ],
   "source": [
    "consumer_key = 'HIDDEN'\n",
    "consumer_secret = 'HIDDEN'\n",
    "access_token = 'HIDDEN'\n",
    "access_secret = 'HIDDEN'\n",
    "\n",
    "auth = OAuthHandler(consumer_key, consumer_secret)\n",
    "auth.set_access_token(access_token, access_secret)\n",
    "\n",
    "api = tweepy.API(auth, wait_on_rate_limit=True)\n",
    "\n",
    "tweet_ids = twitter_arc.tweet_id.values\n",
    "len(tweet_ids)\n",
    "\n"
   ]
  },
  {
   "cell_type": "raw",
   "id": "dddbccba-c6cb-4113-ba3c-b3c11d5ff8bd",
   "metadata": {},
   "source": [
    "# I used the code, however it did not work. It says invalid and ununtorized token. I proceed to use the json file\n",
    "%%time\n",
    "\n",
    "count = 0\n",
    "fails_dict = {}\n",
    "\n",
    "with open('tweet_json.txt', 'w') as outfile:\n",
    "    for tweet_id in tweet_ids:\n",
    "       count += 1\n",
    "       print(str(count) + \": \" + str(tweet_id))\n",
    "       try:\n",
    "           tweet = api.get_status(tweet_id, tweet_mode='extended')\n",
    "           json.dump(tweet._json, outfile)\n",
    "           print(\"Success\")\n",
    "\n",
    "           outfile.write('\\n')\n",
    "       except Exception as e:\n",
    "           print(\"Fail\")\n",
    "           fails_dict[tweet_id] = e\n",
    "       \n",
    "\n",
    "\n",
    "print(fails_dict)\n",
    "    "
   ]
  },
  {
   "cell_type": "code",
   "execution_count": 25,
   "id": "a80c3507-a74d-4a4d-ac60-bc532b5bda0e",
   "metadata": {},
   "outputs": [],
   "source": [
    "\n",
    "json_tweets = pd.read_json(\"tweet-json.txt\", lines = True, encoding ='utf-8')\n",
    "#json_tweets.head()\n"
   ]
  },
  {
   "cell_type": "code",
   "execution_count": 26,
   "id": "1718a250-c313-407b-8c7d-5ea0ca2d0ec4",
   "metadata": {},
   "outputs": [],
   "source": [
    "json_tweets = json_tweets[['id', 'retweet_count','favorite_count']]"
   ]
  },
  {
   "cell_type": "code",
   "execution_count": 6,
   "id": "556c1763-040a-46ec-ab2a-7e11368263c8",
   "metadata": {},
   "outputs": [],
   "source": [
    "#json_tweets.head()\n"
   ]
  },
  {
   "cell_type": "markdown",
   "id": "5171436a-05d4-42f9-a5ae-d44466475ffb",
   "metadata": {},
   "source": [
    "# ASSESSING\n",
    "\n",
    "### Tidiness \n",
    "\n",
    "- Delete Nan null rows and drop unnecessary columns (retweeted_id, retweeted_status_user_id, retweeted_status_timestamp, in_reply_to_status_id, in_reply_to_user_id, id, extended_url\n",
    "- Create a column called dog_stage with the values in the columns (doggo, floofer, pupper, puppo)\n",
    "- Join all the tables (twitter_arc, images_pred, json_tweets) to create one DataFrame, drop the duplicate columns\n",
    "\n",
    "\n",
    "\n",
    "### Quality\n",
    "\n",
    "- Delete duplicate values\n",
    "- Keep only the tweets with images. Remove retweets\n",
    "- From the column source, extract the source which the tweet was made, in this case \"Twitter for Iphone\"\n",
    "- Change the datatype of the column tweet_id, from int64 to object, the column img_num from float to int64, timestamp colomn to datetime\n",
    "- Normalize the column name, p1, p2, p3 where the names all start with a capital letter\n",
    "- Replace the underscore in the column p1, p2, p3 for space\n",
    "- Replace the invalid names in the column name for 'None'\n",
    "- Change the names for the columns(img_num, p1, p1_conf, p1_dog, p2, p2_conf, p2_dog, p3, p3_conf, p3_dog) for more descriptive names\n"
   ]
  },
  {
   "cell_type": "markdown",
   "id": "9917550d-dd94-4575-906c-d6c9d5a0f80c",
   "metadata": {},
   "source": [
    "## Visual Assessment"
   ]
  },
  {
   "cell_type": "code",
   "execution_count": 27,
   "id": "a4041d80-e606-4233-a8f0-412972d7d2e7",
   "metadata": {},
   "outputs": [
    {
     "data": {
      "text/html": [
       "<div>\n",
       "<style scoped>\n",
       "    .dataframe tbody tr th:only-of-type {\n",
       "        vertical-align: middle;\n",
       "    }\n",
       "\n",
       "    .dataframe tbody tr th {\n",
       "        vertical-align: top;\n",
       "    }\n",
       "\n",
       "    .dataframe thead th {\n",
       "        text-align: right;\n",
       "    }\n",
       "</style>\n",
       "<table border=\"1\" class=\"dataframe\">\n",
       "  <thead>\n",
       "    <tr style=\"text-align: right;\">\n",
       "      <th></th>\n",
       "      <th>tweet_id</th>\n",
       "      <th>in_reply_to_status_id</th>\n",
       "      <th>in_reply_to_user_id</th>\n",
       "      <th>timestamp</th>\n",
       "      <th>source</th>\n",
       "      <th>text</th>\n",
       "      <th>retweeted_status_id</th>\n",
       "      <th>retweeted_status_user_id</th>\n",
       "      <th>retweeted_status_timestamp</th>\n",
       "      <th>expanded_urls</th>\n",
       "      <th>rating_numerator</th>\n",
       "      <th>rating_denominator</th>\n",
       "      <th>name</th>\n",
       "      <th>doggo</th>\n",
       "      <th>floofer</th>\n",
       "      <th>pupper</th>\n",
       "      <th>puppo</th>\n",
       "    </tr>\n",
       "  </thead>\n",
       "  <tbody>\n",
       "    <tr>\n",
       "      <th>0</th>\n",
       "      <td>892420643555336193</td>\n",
       "      <td>NaN</td>\n",
       "      <td>NaN</td>\n",
       "      <td>2017-08-01 16:23:56 +0000</td>\n",
       "      <td>&lt;a href=\"http://twitter.com/download/iphone\" rel=\"nofollow\"&gt;Twitter for iPhone&lt;/a&gt;</td>\n",
       "      <td>This is Phineas. He's a mystical boy. Only ever appears in the hole of a donut. 13/10 https://t.co/MgUWQ76dJU</td>\n",
       "      <td>NaN</td>\n",
       "      <td>NaN</td>\n",
       "      <td>NaN</td>\n",
       "      <td>https://twitter.com/dog_rates/status/892420643555336193/photo/1</td>\n",
       "      <td>13</td>\n",
       "      <td>10</td>\n",
       "      <td>Phineas</td>\n",
       "      <td>None</td>\n",
       "      <td>None</td>\n",
       "      <td>None</td>\n",
       "      <td>None</td>\n",
       "    </tr>\n",
       "    <tr>\n",
       "      <th>1</th>\n",
       "      <td>892177421306343426</td>\n",
       "      <td>NaN</td>\n",
       "      <td>NaN</td>\n",
       "      <td>2017-08-01 00:17:27 +0000</td>\n",
       "      <td>&lt;a href=\"http://twitter.com/download/iphone\" rel=\"nofollow\"&gt;Twitter for iPhone&lt;/a&gt;</td>\n",
       "      <td>This is Tilly. She's just checking pup on you. Hopes you're doing ok. If not, she's available for pats, snugs, boops, the whole bit. 13/10 https://t.co/0Xxu71qeIV</td>\n",
       "      <td>NaN</td>\n",
       "      <td>NaN</td>\n",
       "      <td>NaN</td>\n",
       "      <td>https://twitter.com/dog_rates/status/892177421306343426/photo/1</td>\n",
       "      <td>13</td>\n",
       "      <td>10</td>\n",
       "      <td>Tilly</td>\n",
       "      <td>None</td>\n",
       "      <td>None</td>\n",
       "      <td>None</td>\n",
       "      <td>None</td>\n",
       "    </tr>\n",
       "    <tr>\n",
       "      <th>2</th>\n",
       "      <td>891815181378084864</td>\n",
       "      <td>NaN</td>\n",
       "      <td>NaN</td>\n",
       "      <td>2017-07-31 00:18:03 +0000</td>\n",
       "      <td>&lt;a href=\"http://twitter.com/download/iphone\" rel=\"nofollow\"&gt;Twitter for iPhone&lt;/a&gt;</td>\n",
       "      <td>This is Archie. He is a rare Norwegian Pouncing Corgo. Lives in the tall grass. You never know when one may strike. 12/10 https://t.co/wUnZnhtVJB</td>\n",
       "      <td>NaN</td>\n",
       "      <td>NaN</td>\n",
       "      <td>NaN</td>\n",
       "      <td>https://twitter.com/dog_rates/status/891815181378084864/photo/1</td>\n",
       "      <td>12</td>\n",
       "      <td>10</td>\n",
       "      <td>Archie</td>\n",
       "      <td>None</td>\n",
       "      <td>None</td>\n",
       "      <td>None</td>\n",
       "      <td>None</td>\n",
       "    </tr>\n",
       "    <tr>\n",
       "      <th>3</th>\n",
       "      <td>891689557279858688</td>\n",
       "      <td>NaN</td>\n",
       "      <td>NaN</td>\n",
       "      <td>2017-07-30 15:58:51 +0000</td>\n",
       "      <td>&lt;a href=\"http://twitter.com/download/iphone\" rel=\"nofollow\"&gt;Twitter for iPhone&lt;/a&gt;</td>\n",
       "      <td>This is Darla. She commenced a snooze mid meal. 13/10 happens to the best of us https://t.co/tD36da7qLQ</td>\n",
       "      <td>NaN</td>\n",
       "      <td>NaN</td>\n",
       "      <td>NaN</td>\n",
       "      <td>https://twitter.com/dog_rates/status/891689557279858688/photo/1</td>\n",
       "      <td>13</td>\n",
       "      <td>10</td>\n",
       "      <td>Darla</td>\n",
       "      <td>None</td>\n",
       "      <td>None</td>\n",
       "      <td>None</td>\n",
       "      <td>None</td>\n",
       "    </tr>\n",
       "    <tr>\n",
       "      <th>4</th>\n",
       "      <td>891327558926688256</td>\n",
       "      <td>NaN</td>\n",
       "      <td>NaN</td>\n",
       "      <td>2017-07-29 16:00:24 +0000</td>\n",
       "      <td>&lt;a href=\"http://twitter.com/download/iphone\" rel=\"nofollow\"&gt;Twitter for iPhone&lt;/a&gt;</td>\n",
       "      <td>This is Franklin. He would like you to stop calling him \"cute.\" He is a very fierce shark and should be respected as such. 12/10 #BarkWeek https://t.co/AtUZn91f7f</td>\n",
       "      <td>NaN</td>\n",
       "      <td>NaN</td>\n",
       "      <td>NaN</td>\n",
       "      <td>https://twitter.com/dog_rates/status/891327558926688256/photo/1,https://twitter.com/dog_rates/status/891327558926688256/photo/1</td>\n",
       "      <td>12</td>\n",
       "      <td>10</td>\n",
       "      <td>Franklin</td>\n",
       "      <td>None</td>\n",
       "      <td>None</td>\n",
       "      <td>None</td>\n",
       "      <td>None</td>\n",
       "    </tr>\n",
       "    <tr>\n",
       "      <th>...</th>\n",
       "      <td>...</td>\n",
       "      <td>...</td>\n",
       "      <td>...</td>\n",
       "      <td>...</td>\n",
       "      <td>...</td>\n",
       "      <td>...</td>\n",
       "      <td>...</td>\n",
       "      <td>...</td>\n",
       "      <td>...</td>\n",
       "      <td>...</td>\n",
       "      <td>...</td>\n",
       "      <td>...</td>\n",
       "      <td>...</td>\n",
       "      <td>...</td>\n",
       "      <td>...</td>\n",
       "      <td>...</td>\n",
       "      <td>...</td>\n",
       "    </tr>\n",
       "    <tr>\n",
       "      <th>2351</th>\n",
       "      <td>666049248165822465</td>\n",
       "      <td>NaN</td>\n",
       "      <td>NaN</td>\n",
       "      <td>2015-11-16 00:24:50 +0000</td>\n",
       "      <td>&lt;a href=\"http://twitter.com/download/iphone\" rel=\"nofollow\"&gt;Twitter for iPhone&lt;/a&gt;</td>\n",
       "      <td>Here we have a 1949 1st generation vulpix. Enjoys sweat tea and Fox News. Cannot be phased. 5/10 https://t.co/4B7cOc1EDq</td>\n",
       "      <td>NaN</td>\n",
       "      <td>NaN</td>\n",
       "      <td>NaN</td>\n",
       "      <td>https://twitter.com/dog_rates/status/666049248165822465/photo/1</td>\n",
       "      <td>5</td>\n",
       "      <td>10</td>\n",
       "      <td>None</td>\n",
       "      <td>None</td>\n",
       "      <td>None</td>\n",
       "      <td>None</td>\n",
       "      <td>None</td>\n",
       "    </tr>\n",
       "    <tr>\n",
       "      <th>2352</th>\n",
       "      <td>666044226329800704</td>\n",
       "      <td>NaN</td>\n",
       "      <td>NaN</td>\n",
       "      <td>2015-11-16 00:04:52 +0000</td>\n",
       "      <td>&lt;a href=\"http://twitter.com/download/iphone\" rel=\"nofollow\"&gt;Twitter for iPhone&lt;/a&gt;</td>\n",
       "      <td>This is a purebred Piers Morgan. Loves to Netflix and chill. Always looks like he forgot to unplug the iron. 6/10 https://t.co/DWnyCjf2mx</td>\n",
       "      <td>NaN</td>\n",
       "      <td>NaN</td>\n",
       "      <td>NaN</td>\n",
       "      <td>https://twitter.com/dog_rates/status/666044226329800704/photo/1</td>\n",
       "      <td>6</td>\n",
       "      <td>10</td>\n",
       "      <td>a</td>\n",
       "      <td>None</td>\n",
       "      <td>None</td>\n",
       "      <td>None</td>\n",
       "      <td>None</td>\n",
       "    </tr>\n",
       "    <tr>\n",
       "      <th>2353</th>\n",
       "      <td>666033412701032449</td>\n",
       "      <td>NaN</td>\n",
       "      <td>NaN</td>\n",
       "      <td>2015-11-15 23:21:54 +0000</td>\n",
       "      <td>&lt;a href=\"http://twitter.com/download/iphone\" rel=\"nofollow\"&gt;Twitter for iPhone&lt;/a&gt;</td>\n",
       "      <td>Here is a very happy pup. Big fan of well-maintained decks. Just look at that tongue. 9/10 would cuddle af https://t.co/y671yMhoiR</td>\n",
       "      <td>NaN</td>\n",
       "      <td>NaN</td>\n",
       "      <td>NaN</td>\n",
       "      <td>https://twitter.com/dog_rates/status/666033412701032449/photo/1</td>\n",
       "      <td>9</td>\n",
       "      <td>10</td>\n",
       "      <td>a</td>\n",
       "      <td>None</td>\n",
       "      <td>None</td>\n",
       "      <td>None</td>\n",
       "      <td>None</td>\n",
       "    </tr>\n",
       "    <tr>\n",
       "      <th>2354</th>\n",
       "      <td>666029285002620928</td>\n",
       "      <td>NaN</td>\n",
       "      <td>NaN</td>\n",
       "      <td>2015-11-15 23:05:30 +0000</td>\n",
       "      <td>&lt;a href=\"http://twitter.com/download/iphone\" rel=\"nofollow\"&gt;Twitter for iPhone&lt;/a&gt;</td>\n",
       "      <td>This is a western brown Mitsubishi terrier. Upset about leaf. Actually 2 dogs here. 7/10 would walk the shit out of https://t.co/r7mOb2m0UI</td>\n",
       "      <td>NaN</td>\n",
       "      <td>NaN</td>\n",
       "      <td>NaN</td>\n",
       "      <td>https://twitter.com/dog_rates/status/666029285002620928/photo/1</td>\n",
       "      <td>7</td>\n",
       "      <td>10</td>\n",
       "      <td>a</td>\n",
       "      <td>None</td>\n",
       "      <td>None</td>\n",
       "      <td>None</td>\n",
       "      <td>None</td>\n",
       "    </tr>\n",
       "    <tr>\n",
       "      <th>2355</th>\n",
       "      <td>666020888022790149</td>\n",
       "      <td>NaN</td>\n",
       "      <td>NaN</td>\n",
       "      <td>2015-11-15 22:32:08 +0000</td>\n",
       "      <td>&lt;a href=\"http://twitter.com/download/iphone\" rel=\"nofollow\"&gt;Twitter for iPhone&lt;/a&gt;</td>\n",
       "      <td>Here we have a Japanese Irish Setter. Lost eye in Vietnam (?). Big fan of relaxing on stair. 8/10 would pet https://t.co/BLDqew2Ijj</td>\n",
       "      <td>NaN</td>\n",
       "      <td>NaN</td>\n",
       "      <td>NaN</td>\n",
       "      <td>https://twitter.com/dog_rates/status/666020888022790149/photo/1</td>\n",
       "      <td>8</td>\n",
       "      <td>10</td>\n",
       "      <td>None</td>\n",
       "      <td>None</td>\n",
       "      <td>None</td>\n",
       "      <td>None</td>\n",
       "      <td>None</td>\n",
       "    </tr>\n",
       "  </tbody>\n",
       "</table>\n",
       "<p>2356 rows × 17 columns</p>\n",
       "</div>"
      ],
      "text/plain": [
       "                tweet_id  in_reply_to_status_id  in_reply_to_user_id  \\\n",
       "0     892420643555336193                    NaN                  NaN   \n",
       "1     892177421306343426                    NaN                  NaN   \n",
       "2     891815181378084864                    NaN                  NaN   \n",
       "3     891689557279858688                    NaN                  NaN   \n",
       "4     891327558926688256                    NaN                  NaN   \n",
       "...                  ...                    ...                  ...   \n",
       "2351  666049248165822465                    NaN                  NaN   \n",
       "2352  666044226329800704                    NaN                  NaN   \n",
       "2353  666033412701032449                    NaN                  NaN   \n",
       "2354  666029285002620928                    NaN                  NaN   \n",
       "2355  666020888022790149                    NaN                  NaN   \n",
       "\n",
       "                      timestamp  \\\n",
       "0     2017-08-01 16:23:56 +0000   \n",
       "1     2017-08-01 00:17:27 +0000   \n",
       "2     2017-07-31 00:18:03 +0000   \n",
       "3     2017-07-30 15:58:51 +0000   \n",
       "4     2017-07-29 16:00:24 +0000   \n",
       "...                         ...   \n",
       "2351  2015-11-16 00:24:50 +0000   \n",
       "2352  2015-11-16 00:04:52 +0000   \n",
       "2353  2015-11-15 23:21:54 +0000   \n",
       "2354  2015-11-15 23:05:30 +0000   \n",
       "2355  2015-11-15 22:32:08 +0000   \n",
       "\n",
       "                                                                                  source  \\\n",
       "0     <a href=\"http://twitter.com/download/iphone\" rel=\"nofollow\">Twitter for iPhone</a>   \n",
       "1     <a href=\"http://twitter.com/download/iphone\" rel=\"nofollow\">Twitter for iPhone</a>   \n",
       "2     <a href=\"http://twitter.com/download/iphone\" rel=\"nofollow\">Twitter for iPhone</a>   \n",
       "3     <a href=\"http://twitter.com/download/iphone\" rel=\"nofollow\">Twitter for iPhone</a>   \n",
       "4     <a href=\"http://twitter.com/download/iphone\" rel=\"nofollow\">Twitter for iPhone</a>   \n",
       "...                                                                                  ...   \n",
       "2351  <a href=\"http://twitter.com/download/iphone\" rel=\"nofollow\">Twitter for iPhone</a>   \n",
       "2352  <a href=\"http://twitter.com/download/iphone\" rel=\"nofollow\">Twitter for iPhone</a>   \n",
       "2353  <a href=\"http://twitter.com/download/iphone\" rel=\"nofollow\">Twitter for iPhone</a>   \n",
       "2354  <a href=\"http://twitter.com/download/iphone\" rel=\"nofollow\">Twitter for iPhone</a>   \n",
       "2355  <a href=\"http://twitter.com/download/iphone\" rel=\"nofollow\">Twitter for iPhone</a>   \n",
       "\n",
       "                                                                                                                                                                    text  \\\n",
       "0                                                          This is Phineas. He's a mystical boy. Only ever appears in the hole of a donut. 13/10 https://t.co/MgUWQ76dJU   \n",
       "1     This is Tilly. She's just checking pup on you. Hopes you're doing ok. If not, she's available for pats, snugs, boops, the whole bit. 13/10 https://t.co/0Xxu71qeIV   \n",
       "2                      This is Archie. He is a rare Norwegian Pouncing Corgo. Lives in the tall grass. You never know when one may strike. 12/10 https://t.co/wUnZnhtVJB   \n",
       "3                                                                This is Darla. She commenced a snooze mid meal. 13/10 happens to the best of us https://t.co/tD36da7qLQ   \n",
       "4     This is Franklin. He would like you to stop calling him \"cute.\" He is a very fierce shark and should be respected as such. 12/10 #BarkWeek https://t.co/AtUZn91f7f   \n",
       "...                                                                                                                                                                  ...   \n",
       "2351                                            Here we have a 1949 1st generation vulpix. Enjoys sweat tea and Fox News. Cannot be phased. 5/10 https://t.co/4B7cOc1EDq   \n",
       "2352                           This is a purebred Piers Morgan. Loves to Netflix and chill. Always looks like he forgot to unplug the iron. 6/10 https://t.co/DWnyCjf2mx   \n",
       "2353                                  Here is a very happy pup. Big fan of well-maintained decks. Just look at that tongue. 9/10 would cuddle af https://t.co/y671yMhoiR   \n",
       "2354                         This is a western brown Mitsubishi terrier. Upset about leaf. Actually 2 dogs here. 7/10 would walk the shit out of https://t.co/r7mOb2m0UI   \n",
       "2355                                 Here we have a Japanese Irish Setter. Lost eye in Vietnam (?). Big fan of relaxing on stair. 8/10 would pet https://t.co/BLDqew2Ijj   \n",
       "\n",
       "      retweeted_status_id  retweeted_status_user_id  \\\n",
       "0                     NaN                       NaN   \n",
       "1                     NaN                       NaN   \n",
       "2                     NaN                       NaN   \n",
       "3                     NaN                       NaN   \n",
       "4                     NaN                       NaN   \n",
       "...                   ...                       ...   \n",
       "2351                  NaN                       NaN   \n",
       "2352                  NaN                       NaN   \n",
       "2353                  NaN                       NaN   \n",
       "2354                  NaN                       NaN   \n",
       "2355                  NaN                       NaN   \n",
       "\n",
       "     retweeted_status_timestamp  \\\n",
       "0                           NaN   \n",
       "1                           NaN   \n",
       "2                           NaN   \n",
       "3                           NaN   \n",
       "4                           NaN   \n",
       "...                         ...   \n",
       "2351                        NaN   \n",
       "2352                        NaN   \n",
       "2353                        NaN   \n",
       "2354                        NaN   \n",
       "2355                        NaN   \n",
       "\n",
       "                                                                                                                        expanded_urls  \\\n",
       "0                                                                     https://twitter.com/dog_rates/status/892420643555336193/photo/1   \n",
       "1                                                                     https://twitter.com/dog_rates/status/892177421306343426/photo/1   \n",
       "2                                                                     https://twitter.com/dog_rates/status/891815181378084864/photo/1   \n",
       "3                                                                     https://twitter.com/dog_rates/status/891689557279858688/photo/1   \n",
       "4     https://twitter.com/dog_rates/status/891327558926688256/photo/1,https://twitter.com/dog_rates/status/891327558926688256/photo/1   \n",
       "...                                                                                                                               ...   \n",
       "2351                                                                  https://twitter.com/dog_rates/status/666049248165822465/photo/1   \n",
       "2352                                                                  https://twitter.com/dog_rates/status/666044226329800704/photo/1   \n",
       "2353                                                                  https://twitter.com/dog_rates/status/666033412701032449/photo/1   \n",
       "2354                                                                  https://twitter.com/dog_rates/status/666029285002620928/photo/1   \n",
       "2355                                                                  https://twitter.com/dog_rates/status/666020888022790149/photo/1   \n",
       "\n",
       "      rating_numerator  rating_denominator      name doggo floofer pupper  \\\n",
       "0                   13                  10   Phineas  None    None   None   \n",
       "1                   13                  10     Tilly  None    None   None   \n",
       "2                   12                  10    Archie  None    None   None   \n",
       "3                   13                  10     Darla  None    None   None   \n",
       "4                   12                  10  Franklin  None    None   None   \n",
       "...                ...                 ...       ...   ...     ...    ...   \n",
       "2351                 5                  10      None  None    None   None   \n",
       "2352                 6                  10         a  None    None   None   \n",
       "2353                 9                  10         a  None    None   None   \n",
       "2354                 7                  10         a  None    None   None   \n",
       "2355                 8                  10      None  None    None   None   \n",
       "\n",
       "     puppo  \n",
       "0     None  \n",
       "1     None  \n",
       "2     None  \n",
       "3     None  \n",
       "4     None  \n",
       "...    ...  \n",
       "2351  None  \n",
       "2352  None  \n",
       "2353  None  \n",
       "2354  None  \n",
       "2355  None  \n",
       "\n",
       "[2356 rows x 17 columns]"
      ]
     },
     "execution_count": 27,
     "metadata": {},
     "output_type": "execute_result"
    }
   ],
   "source": [
    "#Here, I assessed the data visually finding some quality and tidiness issues such as separet columns,\n",
    "#drop columns, melt columns, extract information from some columns.\n",
    "twitter_arc"
   ]
  },
  {
   "cell_type": "code",
   "execution_count": 28,
   "id": "670665fd-d594-4b35-b3e3-8a9a7cf4b7c8",
   "metadata": {},
   "outputs": [
    {
     "data": {
      "text/html": [
       "<div>\n",
       "<style scoped>\n",
       "    .dataframe tbody tr th:only-of-type {\n",
       "        vertical-align: middle;\n",
       "    }\n",
       "\n",
       "    .dataframe tbody tr th {\n",
       "        vertical-align: top;\n",
       "    }\n",
       "\n",
       "    .dataframe thead th {\n",
       "        text-align: right;\n",
       "    }\n",
       "</style>\n",
       "<table border=\"1\" class=\"dataframe\">\n",
       "  <thead>\n",
       "    <tr style=\"text-align: right;\">\n",
       "      <th></th>\n",
       "      <th>tweet_id</th>\n",
       "      <th>jpg_url</th>\n",
       "      <th>img_num</th>\n",
       "      <th>p1</th>\n",
       "      <th>p1_conf</th>\n",
       "      <th>p1_dog</th>\n",
       "      <th>p2</th>\n",
       "      <th>p2_conf</th>\n",
       "      <th>p2_dog</th>\n",
       "      <th>p3</th>\n",
       "      <th>p3_conf</th>\n",
       "      <th>p3_dog</th>\n",
       "    </tr>\n",
       "  </thead>\n",
       "  <tbody>\n",
       "    <tr>\n",
       "      <th>0</th>\n",
       "      <td>666020888022790149</td>\n",
       "      <td>https://pbs.twimg.com/media/CT4udn0WwAA0aMy.jpg</td>\n",
       "      <td>1</td>\n",
       "      <td>Welsh_springer_spaniel</td>\n",
       "      <td>0.465074</td>\n",
       "      <td>True</td>\n",
       "      <td>collie</td>\n",
       "      <td>0.156665</td>\n",
       "      <td>True</td>\n",
       "      <td>Shetland_sheepdog</td>\n",
       "      <td>0.061428</td>\n",
       "      <td>True</td>\n",
       "    </tr>\n",
       "    <tr>\n",
       "      <th>1</th>\n",
       "      <td>666029285002620928</td>\n",
       "      <td>https://pbs.twimg.com/media/CT42GRgUYAA5iDo.jpg</td>\n",
       "      <td>1</td>\n",
       "      <td>redbone</td>\n",
       "      <td>0.506826</td>\n",
       "      <td>True</td>\n",
       "      <td>miniature_pinscher</td>\n",
       "      <td>0.074192</td>\n",
       "      <td>True</td>\n",
       "      <td>Rhodesian_ridgeback</td>\n",
       "      <td>0.072010</td>\n",
       "      <td>True</td>\n",
       "    </tr>\n",
       "    <tr>\n",
       "      <th>2</th>\n",
       "      <td>666033412701032449</td>\n",
       "      <td>https://pbs.twimg.com/media/CT4521TWwAEvMyu.jpg</td>\n",
       "      <td>1</td>\n",
       "      <td>German_shepherd</td>\n",
       "      <td>0.596461</td>\n",
       "      <td>True</td>\n",
       "      <td>malinois</td>\n",
       "      <td>0.138584</td>\n",
       "      <td>True</td>\n",
       "      <td>bloodhound</td>\n",
       "      <td>0.116197</td>\n",
       "      <td>True</td>\n",
       "    </tr>\n",
       "    <tr>\n",
       "      <th>3</th>\n",
       "      <td>666044226329800704</td>\n",
       "      <td>https://pbs.twimg.com/media/CT5Dr8HUEAA-lEu.jpg</td>\n",
       "      <td>1</td>\n",
       "      <td>Rhodesian_ridgeback</td>\n",
       "      <td>0.408143</td>\n",
       "      <td>True</td>\n",
       "      <td>redbone</td>\n",
       "      <td>0.360687</td>\n",
       "      <td>True</td>\n",
       "      <td>miniature_pinscher</td>\n",
       "      <td>0.222752</td>\n",
       "      <td>True</td>\n",
       "    </tr>\n",
       "    <tr>\n",
       "      <th>4</th>\n",
       "      <td>666049248165822465</td>\n",
       "      <td>https://pbs.twimg.com/media/CT5IQmsXIAAKY4A.jpg</td>\n",
       "      <td>1</td>\n",
       "      <td>miniature_pinscher</td>\n",
       "      <td>0.560311</td>\n",
       "      <td>True</td>\n",
       "      <td>Rottweiler</td>\n",
       "      <td>0.243682</td>\n",
       "      <td>True</td>\n",
       "      <td>Doberman</td>\n",
       "      <td>0.154629</td>\n",
       "      <td>True</td>\n",
       "    </tr>\n",
       "    <tr>\n",
       "      <th>...</th>\n",
       "      <td>...</td>\n",
       "      <td>...</td>\n",
       "      <td>...</td>\n",
       "      <td>...</td>\n",
       "      <td>...</td>\n",
       "      <td>...</td>\n",
       "      <td>...</td>\n",
       "      <td>...</td>\n",
       "      <td>...</td>\n",
       "      <td>...</td>\n",
       "      <td>...</td>\n",
       "      <td>...</td>\n",
       "    </tr>\n",
       "    <tr>\n",
       "      <th>2070</th>\n",
       "      <td>891327558926688256</td>\n",
       "      <td>https://pbs.twimg.com/media/DF6hr6BUMAAzZgT.jpg</td>\n",
       "      <td>2</td>\n",
       "      <td>basset</td>\n",
       "      <td>0.555712</td>\n",
       "      <td>True</td>\n",
       "      <td>English_springer</td>\n",
       "      <td>0.225770</td>\n",
       "      <td>True</td>\n",
       "      <td>German_short-haired_pointer</td>\n",
       "      <td>0.175219</td>\n",
       "      <td>True</td>\n",
       "    </tr>\n",
       "    <tr>\n",
       "      <th>2071</th>\n",
       "      <td>891689557279858688</td>\n",
       "      <td>https://pbs.twimg.com/media/DF_q7IAWsAEuuN8.jpg</td>\n",
       "      <td>1</td>\n",
       "      <td>paper_towel</td>\n",
       "      <td>0.170278</td>\n",
       "      <td>False</td>\n",
       "      <td>Labrador_retriever</td>\n",
       "      <td>0.168086</td>\n",
       "      <td>True</td>\n",
       "      <td>spatula</td>\n",
       "      <td>0.040836</td>\n",
       "      <td>False</td>\n",
       "    </tr>\n",
       "    <tr>\n",
       "      <th>2072</th>\n",
       "      <td>891815181378084864</td>\n",
       "      <td>https://pbs.twimg.com/media/DGBdLU1WsAANxJ9.jpg</td>\n",
       "      <td>1</td>\n",
       "      <td>Chihuahua</td>\n",
       "      <td>0.716012</td>\n",
       "      <td>True</td>\n",
       "      <td>malamute</td>\n",
       "      <td>0.078253</td>\n",
       "      <td>True</td>\n",
       "      <td>kelpie</td>\n",
       "      <td>0.031379</td>\n",
       "      <td>True</td>\n",
       "    </tr>\n",
       "    <tr>\n",
       "      <th>2073</th>\n",
       "      <td>892177421306343426</td>\n",
       "      <td>https://pbs.twimg.com/media/DGGmoV4XsAAUL6n.jpg</td>\n",
       "      <td>1</td>\n",
       "      <td>Chihuahua</td>\n",
       "      <td>0.323581</td>\n",
       "      <td>True</td>\n",
       "      <td>Pekinese</td>\n",
       "      <td>0.090647</td>\n",
       "      <td>True</td>\n",
       "      <td>papillon</td>\n",
       "      <td>0.068957</td>\n",
       "      <td>True</td>\n",
       "    </tr>\n",
       "    <tr>\n",
       "      <th>2074</th>\n",
       "      <td>892420643555336193</td>\n",
       "      <td>https://pbs.twimg.com/media/DGKD1-bXoAAIAUK.jpg</td>\n",
       "      <td>1</td>\n",
       "      <td>orange</td>\n",
       "      <td>0.097049</td>\n",
       "      <td>False</td>\n",
       "      <td>bagel</td>\n",
       "      <td>0.085851</td>\n",
       "      <td>False</td>\n",
       "      <td>banana</td>\n",
       "      <td>0.076110</td>\n",
       "      <td>False</td>\n",
       "    </tr>\n",
       "  </tbody>\n",
       "</table>\n",
       "<p>2075 rows × 12 columns</p>\n",
       "</div>"
      ],
      "text/plain": [
       "                tweet_id                                          jpg_url  \\\n",
       "0     666020888022790149  https://pbs.twimg.com/media/CT4udn0WwAA0aMy.jpg   \n",
       "1     666029285002620928  https://pbs.twimg.com/media/CT42GRgUYAA5iDo.jpg   \n",
       "2     666033412701032449  https://pbs.twimg.com/media/CT4521TWwAEvMyu.jpg   \n",
       "3     666044226329800704  https://pbs.twimg.com/media/CT5Dr8HUEAA-lEu.jpg   \n",
       "4     666049248165822465  https://pbs.twimg.com/media/CT5IQmsXIAAKY4A.jpg   \n",
       "...                  ...                                              ...   \n",
       "2070  891327558926688256  https://pbs.twimg.com/media/DF6hr6BUMAAzZgT.jpg   \n",
       "2071  891689557279858688  https://pbs.twimg.com/media/DF_q7IAWsAEuuN8.jpg   \n",
       "2072  891815181378084864  https://pbs.twimg.com/media/DGBdLU1WsAANxJ9.jpg   \n",
       "2073  892177421306343426  https://pbs.twimg.com/media/DGGmoV4XsAAUL6n.jpg   \n",
       "2074  892420643555336193  https://pbs.twimg.com/media/DGKD1-bXoAAIAUK.jpg   \n",
       "\n",
       "      img_num                      p1   p1_conf  p1_dog                  p2  \\\n",
       "0           1  Welsh_springer_spaniel  0.465074    True              collie   \n",
       "1           1                 redbone  0.506826    True  miniature_pinscher   \n",
       "2           1         German_shepherd  0.596461    True            malinois   \n",
       "3           1     Rhodesian_ridgeback  0.408143    True             redbone   \n",
       "4           1      miniature_pinscher  0.560311    True          Rottweiler   \n",
       "...       ...                     ...       ...     ...                 ...   \n",
       "2070        2                  basset  0.555712    True    English_springer   \n",
       "2071        1             paper_towel  0.170278   False  Labrador_retriever   \n",
       "2072        1               Chihuahua  0.716012    True            malamute   \n",
       "2073        1               Chihuahua  0.323581    True            Pekinese   \n",
       "2074        1                  orange  0.097049   False               bagel   \n",
       "\n",
       "       p2_conf  p2_dog                           p3   p3_conf  p3_dog  \n",
       "0     0.156665    True            Shetland_sheepdog  0.061428    True  \n",
       "1     0.074192    True          Rhodesian_ridgeback  0.072010    True  \n",
       "2     0.138584    True                   bloodhound  0.116197    True  \n",
       "3     0.360687    True           miniature_pinscher  0.222752    True  \n",
       "4     0.243682    True                     Doberman  0.154629    True  \n",
       "...        ...     ...                          ...       ...     ...  \n",
       "2070  0.225770    True  German_short-haired_pointer  0.175219    True  \n",
       "2071  0.168086    True                      spatula  0.040836   False  \n",
       "2072  0.078253    True                       kelpie  0.031379    True  \n",
       "2073  0.090647    True                     papillon  0.068957    True  \n",
       "2074  0.085851   False                       banana  0.076110   False  \n",
       "\n",
       "[2075 rows x 12 columns]"
      ]
     },
     "execution_count": 28,
     "metadata": {},
     "output_type": "execute_result"
    }
   ],
   "source": [
    "images_pred"
   ]
  },
  {
   "cell_type": "code",
   "execution_count": 29,
   "id": "48425571-3d33-43bb-80df-c7d1ac3bedef",
   "metadata": {},
   "outputs": [
    {
     "data": {
      "text/html": [
       "<div>\n",
       "<style scoped>\n",
       "    .dataframe tbody tr th:only-of-type {\n",
       "        vertical-align: middle;\n",
       "    }\n",
       "\n",
       "    .dataframe tbody tr th {\n",
       "        vertical-align: top;\n",
       "    }\n",
       "\n",
       "    .dataframe thead th {\n",
       "        text-align: right;\n",
       "    }\n",
       "</style>\n",
       "<table border=\"1\" class=\"dataframe\">\n",
       "  <thead>\n",
       "    <tr style=\"text-align: right;\">\n",
       "      <th></th>\n",
       "      <th>id</th>\n",
       "      <th>retweet_count</th>\n",
       "      <th>favorite_count</th>\n",
       "    </tr>\n",
       "  </thead>\n",
       "  <tbody>\n",
       "    <tr>\n",
       "      <th>0</th>\n",
       "      <td>892420643555336193</td>\n",
       "      <td>8853</td>\n",
       "      <td>39467</td>\n",
       "    </tr>\n",
       "    <tr>\n",
       "      <th>1</th>\n",
       "      <td>892177421306343426</td>\n",
       "      <td>6514</td>\n",
       "      <td>33819</td>\n",
       "    </tr>\n",
       "    <tr>\n",
       "      <th>2</th>\n",
       "      <td>891815181378084864</td>\n",
       "      <td>4328</td>\n",
       "      <td>25461</td>\n",
       "    </tr>\n",
       "    <tr>\n",
       "      <th>3</th>\n",
       "      <td>891689557279858688</td>\n",
       "      <td>8964</td>\n",
       "      <td>42908</td>\n",
       "    </tr>\n",
       "    <tr>\n",
       "      <th>4</th>\n",
       "      <td>891327558926688256</td>\n",
       "      <td>9774</td>\n",
       "      <td>41048</td>\n",
       "    </tr>\n",
       "    <tr>\n",
       "      <th>...</th>\n",
       "      <td>...</td>\n",
       "      <td>...</td>\n",
       "      <td>...</td>\n",
       "    </tr>\n",
       "    <tr>\n",
       "      <th>2349</th>\n",
       "      <td>666049248165822465</td>\n",
       "      <td>41</td>\n",
       "      <td>111</td>\n",
       "    </tr>\n",
       "    <tr>\n",
       "      <th>2350</th>\n",
       "      <td>666044226329800704</td>\n",
       "      <td>147</td>\n",
       "      <td>311</td>\n",
       "    </tr>\n",
       "    <tr>\n",
       "      <th>2351</th>\n",
       "      <td>666033412701032449</td>\n",
       "      <td>47</td>\n",
       "      <td>128</td>\n",
       "    </tr>\n",
       "    <tr>\n",
       "      <th>2352</th>\n",
       "      <td>666029285002620928</td>\n",
       "      <td>48</td>\n",
       "      <td>132</td>\n",
       "    </tr>\n",
       "    <tr>\n",
       "      <th>2353</th>\n",
       "      <td>666020888022790149</td>\n",
       "      <td>532</td>\n",
       "      <td>2535</td>\n",
       "    </tr>\n",
       "  </tbody>\n",
       "</table>\n",
       "<p>2354 rows × 3 columns</p>\n",
       "</div>"
      ],
      "text/plain": [
       "                      id  retweet_count  favorite_count\n",
       "0     892420643555336193           8853           39467\n",
       "1     892177421306343426           6514           33819\n",
       "2     891815181378084864           4328           25461\n",
       "3     891689557279858688           8964           42908\n",
       "4     891327558926688256           9774           41048\n",
       "...                  ...            ...             ...\n",
       "2349  666049248165822465             41             111\n",
       "2350  666044226329800704            147             311\n",
       "2351  666033412701032449             47             128\n",
       "2352  666029285002620928             48             132\n",
       "2353  666020888022790149            532            2535\n",
       "\n",
       "[2354 rows x 3 columns]"
      ]
     },
     "execution_count": 29,
     "metadata": {},
     "output_type": "execute_result"
    }
   ],
   "source": [
    "json_tweets"
   ]
  },
  {
   "cell_type": "markdown",
   "id": "f135b3aa-ad94-4dfe-9a55-d03247e643cc",
   "metadata": {},
   "source": [
    "## Programmatic Assessment"
   ]
  },
  {
   "cell_type": "code",
   "execution_count": 30,
   "id": "cd00955e-80c6-4a45-a7a0-3eb932ee824d",
   "metadata": {},
   "outputs": [
    {
     "name": "stdout",
     "output_type": "stream",
     "text": [
      "<class 'pandas.core.frame.DataFrame'>\n",
      "RangeIndex: 2356 entries, 0 to 2355\n",
      "Data columns (total 17 columns):\n",
      " #   Column                      Non-Null Count  Dtype  \n",
      "---  ------                      --------------  -----  \n",
      " 0   tweet_id                    2356 non-null   int64  \n",
      " 1   in_reply_to_status_id       78 non-null     float64\n",
      " 2   in_reply_to_user_id         78 non-null     float64\n",
      " 3   timestamp                   2356 non-null   object \n",
      " 4   source                      2356 non-null   object \n",
      " 5   text                        2356 non-null   object \n",
      " 6   retweeted_status_id         181 non-null    float64\n",
      " 7   retweeted_status_user_id    181 non-null    float64\n",
      " 8   retweeted_status_timestamp  181 non-null    object \n",
      " 9   expanded_urls               2297 non-null   object \n",
      " 10  rating_numerator            2356 non-null   int64  \n",
      " 11  rating_denominator          2356 non-null   int64  \n",
      " 12  name                        2356 non-null   object \n",
      " 13  doggo                       2356 non-null   object \n",
      " 14  floofer                     2356 non-null   object \n",
      " 15  pupper                      2356 non-null   object \n",
      " 16  puppo                       2356 non-null   object \n",
      "dtypes: float64(4), int64(3), object(10)\n",
      "memory usage: 313.0+ KB\n"
     ]
    }
   ],
   "source": [
    "twitter_arc.info()"
   ]
  },
  {
   "cell_type": "code",
   "execution_count": 31,
   "id": "cbd2ed21-dd8f-4629-a766-98d67ee81a2f",
   "metadata": {},
   "outputs": [
    {
     "name": "stdout",
     "output_type": "stream",
     "text": [
      "<class 'pandas.core.frame.DataFrame'>\n",
      "RangeIndex: 2075 entries, 0 to 2074\n",
      "Data columns (total 12 columns):\n",
      " #   Column    Non-Null Count  Dtype  \n",
      "---  ------    --------------  -----  \n",
      " 0   tweet_id  2075 non-null   int64  \n",
      " 1   jpg_url   2075 non-null   object \n",
      " 2   img_num   2075 non-null   int64  \n",
      " 3   p1        2075 non-null   object \n",
      " 4   p1_conf   2075 non-null   float64\n",
      " 5   p1_dog    2075 non-null   bool   \n",
      " 6   p2        2075 non-null   object \n",
      " 7   p2_conf   2075 non-null   float64\n",
      " 8   p2_dog    2075 non-null   bool   \n",
      " 9   p3        2075 non-null   object \n",
      " 10  p3_conf   2075 non-null   float64\n",
      " 11  p3_dog    2075 non-null   bool   \n",
      "dtypes: bool(3), float64(3), int64(2), object(4)\n",
      "memory usage: 152.1+ KB\n"
     ]
    }
   ],
   "source": [
    "images_pred.info()\n"
   ]
  },
  {
   "cell_type": "code",
   "execution_count": 32,
   "id": "d34da62c-e66f-4a8f-98d2-c4f6afbd9f46",
   "metadata": {},
   "outputs": [
    {
     "name": "stdout",
     "output_type": "stream",
     "text": [
      "<class 'pandas.core.frame.DataFrame'>\n",
      "RangeIndex: 2354 entries, 0 to 2353\n",
      "Data columns (total 3 columns):\n",
      " #   Column          Non-Null Count  Dtype\n",
      "---  ------          --------------  -----\n",
      " 0   id              2354 non-null   int64\n",
      " 1   retweet_count   2354 non-null   int64\n",
      " 2   favorite_count  2354 non-null   int64\n",
      "dtypes: int64(3)\n",
      "memory usage: 55.3 KB\n"
     ]
    }
   ],
   "source": [
    "json_tweets.info()"
   ]
  },
  {
   "cell_type": "code",
   "execution_count": 33,
   "id": "87de023e-1cb4-49e3-9dd5-75a6b0ed5201",
   "metadata": {},
   "outputs": [
    {
     "data": {
      "text/plain": [
       "None          745\n",
       "a              55\n",
       "Charlie        12\n",
       "Cooper         11\n",
       "Lucy           11\n",
       "             ... \n",
       "Dex             1\n",
       "Ace             1\n",
       "Tayzie          1\n",
       "Grizzie         1\n",
       "Christoper      1\n",
       "Name: name, Length: 957, dtype: int64"
      ]
     },
     "execution_count": 33,
     "metadata": {},
     "output_type": "execute_result"
    }
   ],
   "source": [
    "twitter_arc.name.value_counts()"
   ]
  },
  {
   "cell_type": "code",
   "execution_count": 34,
   "id": "60508001-2890-4224-b843-9a6227a6eb5f",
   "metadata": {},
   "outputs": [
    {
     "data": {
      "text/plain": [
       "None     2259\n",
       "doggo      97\n",
       "Name: doggo, dtype: int64"
      ]
     },
     "execution_count": 34,
     "metadata": {},
     "output_type": "execute_result"
    }
   ],
   "source": [
    "twitter_arc.doggo.value_counts()\n"
   ]
  },
  {
   "cell_type": "code",
   "execution_count": 35,
   "id": "1f670e71-4006-418a-9c51-c9e8661c661c",
   "metadata": {},
   "outputs": [
    {
     "data": {
      "text/plain": [
       "None       2346\n",
       "floofer      10\n",
       "Name: floofer, dtype: int64"
      ]
     },
     "execution_count": 35,
     "metadata": {},
     "output_type": "execute_result"
    }
   ],
   "source": [
    "twitter_arc.floofer.value_counts()\n"
   ]
  },
  {
   "cell_type": "code",
   "execution_count": 36,
   "id": "fb84cdd6-b059-4e50-b039-88963a3c4dbd",
   "metadata": {},
   "outputs": [
    {
     "data": {
      "text/plain": [
       "None      2099\n",
       "pupper     257\n",
       "Name: pupper, dtype: int64"
      ]
     },
     "execution_count": 36,
     "metadata": {},
     "output_type": "execute_result"
    }
   ],
   "source": [
    "twitter_arc.pupper.value_counts()\n"
   ]
  },
  {
   "cell_type": "code",
   "execution_count": 37,
   "id": "24cd5fc7-9200-439e-a5f8-a7b8fea8185f",
   "metadata": {},
   "outputs": [
    {
     "data": {
      "text/plain": [
       "None     2326\n",
       "puppo      30\n",
       "Name: puppo, dtype: int64"
      ]
     },
     "execution_count": 37,
     "metadata": {},
     "output_type": "execute_result"
    }
   ],
   "source": [
    "twitter_arc.puppo.value_counts()"
   ]
  },
  {
   "cell_type": "code",
   "execution_count": 38,
   "id": "9771d00f-7d9e-426c-b64c-7ca1c46d779b",
   "metadata": {},
   "outputs": [
    {
     "data": {
      "text/plain": [
       "golden_retriever      150\n",
       "Labrador_retriever    100\n",
       "Pembroke               89\n",
       "Chihuahua              83\n",
       "pug                    57\n",
       "                     ... \n",
       "pillow                  1\n",
       "carousel                1\n",
       "bald_eagle              1\n",
       "lorikeet                1\n",
       "orange                  1\n",
       "Name: p1, Length: 378, dtype: int64"
      ]
     },
     "execution_count": 38,
     "metadata": {},
     "output_type": "execute_result"
    }
   ],
   "source": [
    "images_pred.p1.value_counts()\n"
   ]
  },
  {
   "cell_type": "code",
   "execution_count": 39,
   "id": "432004f5-55dd-4882-abe4-c810f52b39b9",
   "metadata": {},
   "outputs": [
    {
     "data": {
      "text/plain": [
       "Labrador_retriever    104\n",
       "golden_retriever       92\n",
       "Cardigan               73\n",
       "Chihuahua              44\n",
       "Pomeranian             42\n",
       "                     ... \n",
       "medicine_chest          1\n",
       "quail                   1\n",
       "horse_cart              1\n",
       "waffle_iron             1\n",
       "bagel                   1\n",
       "Name: p2, Length: 405, dtype: int64"
      ]
     },
     "execution_count": 39,
     "metadata": {},
     "output_type": "execute_result"
    }
   ],
   "source": [
    "images_pred.p2.value_counts()\n"
   ]
  },
  {
   "cell_type": "code",
   "execution_count": 40,
   "id": "09cf8768-cc80-4daa-a4b2-cfe873f940d0",
   "metadata": {},
   "outputs": [
    {
     "data": {
      "text/plain": [
       "Labrador_retriever    79\n",
       "Chihuahua             58\n",
       "golden_retriever      48\n",
       "Eskimo_dog            38\n",
       "kelpie                35\n",
       "                      ..\n",
       "ox                     1\n",
       "assault_rifle          1\n",
       "axolotl                1\n",
       "pot                    1\n",
       "banana                 1\n",
       "Name: p3, Length: 408, dtype: int64"
      ]
     },
     "execution_count": 40,
     "metadata": {},
     "output_type": "execute_result"
    }
   ],
   "source": [
    "images_pred.p3.value_counts()"
   ]
  },
  {
   "cell_type": "code",
   "execution_count": 11,
   "id": "8beb609e-a5d8-43e0-8290-314bb591e2f2",
   "metadata": {},
   "outputs": [
    {
     "name": "stdout",
     "output_type": "stream",
     "text": [
      "<class 'pandas.core.frame.DataFrame'>\n",
      "RangeIndex: 2354 entries, 0 to 2353\n",
      "Data columns (total 3 columns):\n",
      " #   Column          Non-Null Count  Dtype\n",
      "---  ------          --------------  -----\n",
      " 0   id              2354 non-null   int64\n",
      " 1   retweet_count   2354 non-null   int64\n",
      " 2   favorite_count  2354 non-null   int64\n",
      "dtypes: int64(3)\n",
      "memory usage: 55.3 KB\n"
     ]
    }
   ],
   "source": [
    "json_tweets.info()"
   ]
  },
  {
   "cell_type": "code",
   "execution_count": 41,
   "id": "8875a1d6-b17f-4125-9ae4-8139c783c633",
   "metadata": {},
   "outputs": [
    {
     "data": {
      "text/plain": [
       "False    2354\n",
       "Name: id, dtype: int64"
      ]
     },
     "execution_count": 41,
     "metadata": {},
     "output_type": "execute_result"
    }
   ],
   "source": [
    "json_tweets.id.duplicated().value_counts()"
   ]
  },
  {
   "cell_type": "code",
   "execution_count": 42,
   "id": "c6d19d01-8687-4e4b-a0d0-bfe2b2f0828a",
   "metadata": {},
   "outputs": [
    {
     "data": {
      "text/plain": [
       "False    2356\n",
       "Name: tweet_id, dtype: int64"
      ]
     },
     "execution_count": 42,
     "metadata": {},
     "output_type": "execute_result"
    }
   ],
   "source": [
    "twitter_arc.tweet_id.duplicated().value_counts()"
   ]
  },
  {
   "cell_type": "markdown",
   "id": "7a3fcf58-96e4-4173-b8a8-65c2b60157a6",
   "metadata": {},
   "source": [
    "# CLEANING"
   ]
  },
  {
   "cell_type": "markdown",
   "id": "8f4628a5-e269-42b6-8ae3-c9cf936aa6ad",
   "metadata": {},
   "source": [
    "### Define\n",
    "- Join all the tables (twitter_arc, images_pred, json_tweets) to create one DataFrame using the merge command. Join on tweet_id. Save the data frame."
   ]
  },
  {
   "cell_type": "markdown",
   "id": "51d65f47-5d33-4276-b0b2-3625630c5bfc",
   "metadata": {},
   "source": [
    "### Code"
   ]
  },
  {
   "cell_type": "code",
   "execution_count": 44,
   "id": "385aa311-4708-479b-a9b9-ab904f831b8a",
   "metadata": {},
   "outputs": [],
   "source": [
    "twitter_clean = twitter_arc.copy()\n",
    "images_clean = images_pred.copy()\n",
    "json_clean = json_tweets.copy()\n"
   ]
  },
  {
   "cell_type": "code",
   "execution_count": 45,
   "id": "f38deac4-15ee-4c07-bf8c-019ba57107cc",
   "metadata": {},
   "outputs": [],
   "source": [
    "df_clean_data = twitter_clean.merge(images_clean, on=['tweet_id'], how='left')\n",
    "df_clean_data = df_clean_data.merge(json_clean,how='left', left_on=['tweet_id'],right_on=['id']) "
   ]
  },
  {
   "cell_type": "code",
   "execution_count": null,
   "id": "feea4a8b-c8cb-4115-97a2-6aae7a534b99",
   "metadata": {},
   "outputs": [],
   "source": []
  },
  {
   "cell_type": "code",
   "execution_count": 47,
   "id": "7fb80427-8130-49fb-ba42-c9dda17b07be",
   "metadata": {},
   "outputs": [],
   "source": [
    "df_clean_data.to_csv('twitter_df',index=False)"
   ]
  },
  {
   "cell_type": "markdown",
   "id": "fa5b4bed-3ea4-4968-8e6a-eb149d438489",
   "metadata": {},
   "source": [
    "### Test"
   ]
  },
  {
   "cell_type": "code",
   "execution_count": 48,
   "id": "6766e835-692d-4172-acb7-220420cde5f4",
   "metadata": {},
   "outputs": [
    {
     "data": {
      "text/html": [
       "<div>\n",
       "<style scoped>\n",
       "    .dataframe tbody tr th:only-of-type {\n",
       "        vertical-align: middle;\n",
       "    }\n",
       "\n",
       "    .dataframe tbody tr th {\n",
       "        vertical-align: top;\n",
       "    }\n",
       "\n",
       "    .dataframe thead th {\n",
       "        text-align: right;\n",
       "    }\n",
       "</style>\n",
       "<table border=\"1\" class=\"dataframe\">\n",
       "  <thead>\n",
       "    <tr style=\"text-align: right;\">\n",
       "      <th></th>\n",
       "      <th>tweet_id</th>\n",
       "      <th>in_reply_to_status_id</th>\n",
       "      <th>in_reply_to_user_id</th>\n",
       "      <th>timestamp</th>\n",
       "      <th>source</th>\n",
       "      <th>text</th>\n",
       "      <th>retweeted_status_id</th>\n",
       "      <th>retweeted_status_user_id</th>\n",
       "      <th>retweeted_status_timestamp</th>\n",
       "      <th>expanded_urls</th>\n",
       "      <th>rating_numerator</th>\n",
       "      <th>rating_denominator</th>\n",
       "      <th>name</th>\n",
       "      <th>doggo</th>\n",
       "      <th>floofer</th>\n",
       "      <th>pupper</th>\n",
       "      <th>puppo</th>\n",
       "      <th>jpg_url</th>\n",
       "      <th>img_num</th>\n",
       "      <th>p1</th>\n",
       "      <th>p1_conf</th>\n",
       "      <th>p1_dog</th>\n",
       "      <th>p2</th>\n",
       "      <th>p2_conf</th>\n",
       "      <th>p2_dog</th>\n",
       "      <th>p3</th>\n",
       "      <th>p3_conf</th>\n",
       "      <th>p3_dog</th>\n",
       "      <th>id</th>\n",
       "      <th>retweet_count</th>\n",
       "      <th>favorite_count</th>\n",
       "    </tr>\n",
       "  </thead>\n",
       "  <tbody>\n",
       "    <tr>\n",
       "      <th>0</th>\n",
       "      <td>892420643555336193</td>\n",
       "      <td>NaN</td>\n",
       "      <td>NaN</td>\n",
       "      <td>2017-08-01 16:23:56 +0000</td>\n",
       "      <td>&lt;a href=\"http://twitter.com/download/iphone\" rel=\"nofollow\"&gt;Twitter for iPhone&lt;/a&gt;</td>\n",
       "      <td>This is Phineas. He's a mystical boy. Only ever appears in the hole of a donut. 13/10 https://t.co/MgUWQ76dJU</td>\n",
       "      <td>NaN</td>\n",
       "      <td>NaN</td>\n",
       "      <td>NaN</td>\n",
       "      <td>https://twitter.com/dog_rates/status/892420643555336193/photo/1</td>\n",
       "      <td>13</td>\n",
       "      <td>10</td>\n",
       "      <td>Phineas</td>\n",
       "      <td>None</td>\n",
       "      <td>None</td>\n",
       "      <td>None</td>\n",
       "      <td>None</td>\n",
       "      <td>https://pbs.twimg.com/media/DGKD1-bXoAAIAUK.jpg</td>\n",
       "      <td>1.0</td>\n",
       "      <td>orange</td>\n",
       "      <td>0.097049</td>\n",
       "      <td>False</td>\n",
       "      <td>bagel</td>\n",
       "      <td>0.085851</td>\n",
       "      <td>False</td>\n",
       "      <td>banana</td>\n",
       "      <td>0.076110</td>\n",
       "      <td>False</td>\n",
       "      <td>8.924206e+17</td>\n",
       "      <td>8853.0</td>\n",
       "      <td>39467.0</td>\n",
       "    </tr>\n",
       "    <tr>\n",
       "      <th>1</th>\n",
       "      <td>892177421306343426</td>\n",
       "      <td>NaN</td>\n",
       "      <td>NaN</td>\n",
       "      <td>2017-08-01 00:17:27 +0000</td>\n",
       "      <td>&lt;a href=\"http://twitter.com/download/iphone\" rel=\"nofollow\"&gt;Twitter for iPhone&lt;/a&gt;</td>\n",
       "      <td>This is Tilly. She's just checking pup on you. Hopes you're doing ok. If not, she's available for pats, snugs, boops, the whole bit. 13/10 https://t.co/0Xxu71qeIV</td>\n",
       "      <td>NaN</td>\n",
       "      <td>NaN</td>\n",
       "      <td>NaN</td>\n",
       "      <td>https://twitter.com/dog_rates/status/892177421306343426/photo/1</td>\n",
       "      <td>13</td>\n",
       "      <td>10</td>\n",
       "      <td>Tilly</td>\n",
       "      <td>None</td>\n",
       "      <td>None</td>\n",
       "      <td>None</td>\n",
       "      <td>None</td>\n",
       "      <td>https://pbs.twimg.com/media/DGGmoV4XsAAUL6n.jpg</td>\n",
       "      <td>1.0</td>\n",
       "      <td>Chihuahua</td>\n",
       "      <td>0.323581</td>\n",
       "      <td>True</td>\n",
       "      <td>Pekinese</td>\n",
       "      <td>0.090647</td>\n",
       "      <td>True</td>\n",
       "      <td>papillon</td>\n",
       "      <td>0.068957</td>\n",
       "      <td>True</td>\n",
       "      <td>8.921774e+17</td>\n",
       "      <td>6514.0</td>\n",
       "      <td>33819.0</td>\n",
       "    </tr>\n",
       "    <tr>\n",
       "      <th>2</th>\n",
       "      <td>891815181378084864</td>\n",
       "      <td>NaN</td>\n",
       "      <td>NaN</td>\n",
       "      <td>2017-07-31 00:18:03 +0000</td>\n",
       "      <td>&lt;a href=\"http://twitter.com/download/iphone\" rel=\"nofollow\"&gt;Twitter for iPhone&lt;/a&gt;</td>\n",
       "      <td>This is Archie. He is a rare Norwegian Pouncing Corgo. Lives in the tall grass. You never know when one may strike. 12/10 https://t.co/wUnZnhtVJB</td>\n",
       "      <td>NaN</td>\n",
       "      <td>NaN</td>\n",
       "      <td>NaN</td>\n",
       "      <td>https://twitter.com/dog_rates/status/891815181378084864/photo/1</td>\n",
       "      <td>12</td>\n",
       "      <td>10</td>\n",
       "      <td>Archie</td>\n",
       "      <td>None</td>\n",
       "      <td>None</td>\n",
       "      <td>None</td>\n",
       "      <td>None</td>\n",
       "      <td>https://pbs.twimg.com/media/DGBdLU1WsAANxJ9.jpg</td>\n",
       "      <td>1.0</td>\n",
       "      <td>Chihuahua</td>\n",
       "      <td>0.716012</td>\n",
       "      <td>True</td>\n",
       "      <td>malamute</td>\n",
       "      <td>0.078253</td>\n",
       "      <td>True</td>\n",
       "      <td>kelpie</td>\n",
       "      <td>0.031379</td>\n",
       "      <td>True</td>\n",
       "      <td>8.918152e+17</td>\n",
       "      <td>4328.0</td>\n",
       "      <td>25461.0</td>\n",
       "    </tr>\n",
       "    <tr>\n",
       "      <th>3</th>\n",
       "      <td>891689557279858688</td>\n",
       "      <td>NaN</td>\n",
       "      <td>NaN</td>\n",
       "      <td>2017-07-30 15:58:51 +0000</td>\n",
       "      <td>&lt;a href=\"http://twitter.com/download/iphone\" rel=\"nofollow\"&gt;Twitter for iPhone&lt;/a&gt;</td>\n",
       "      <td>This is Darla. She commenced a snooze mid meal. 13/10 happens to the best of us https://t.co/tD36da7qLQ</td>\n",
       "      <td>NaN</td>\n",
       "      <td>NaN</td>\n",
       "      <td>NaN</td>\n",
       "      <td>https://twitter.com/dog_rates/status/891689557279858688/photo/1</td>\n",
       "      <td>13</td>\n",
       "      <td>10</td>\n",
       "      <td>Darla</td>\n",
       "      <td>None</td>\n",
       "      <td>None</td>\n",
       "      <td>None</td>\n",
       "      <td>None</td>\n",
       "      <td>https://pbs.twimg.com/media/DF_q7IAWsAEuuN8.jpg</td>\n",
       "      <td>1.0</td>\n",
       "      <td>paper_towel</td>\n",
       "      <td>0.170278</td>\n",
       "      <td>False</td>\n",
       "      <td>Labrador_retriever</td>\n",
       "      <td>0.168086</td>\n",
       "      <td>True</td>\n",
       "      <td>spatula</td>\n",
       "      <td>0.040836</td>\n",
       "      <td>False</td>\n",
       "      <td>8.916896e+17</td>\n",
       "      <td>8964.0</td>\n",
       "      <td>42908.0</td>\n",
       "    </tr>\n",
       "    <tr>\n",
       "      <th>4</th>\n",
       "      <td>891327558926688256</td>\n",
       "      <td>NaN</td>\n",
       "      <td>NaN</td>\n",
       "      <td>2017-07-29 16:00:24 +0000</td>\n",
       "      <td>&lt;a href=\"http://twitter.com/download/iphone\" rel=\"nofollow\"&gt;Twitter for iPhone&lt;/a&gt;</td>\n",
       "      <td>This is Franklin. He would like you to stop calling him \"cute.\" He is a very fierce shark and should be respected as such. 12/10 #BarkWeek https://t.co/AtUZn91f7f</td>\n",
       "      <td>NaN</td>\n",
       "      <td>NaN</td>\n",
       "      <td>NaN</td>\n",
       "      <td>https://twitter.com/dog_rates/status/891327558926688256/photo/1,https://twitter.com/dog_rates/status/891327558926688256/photo/1</td>\n",
       "      <td>12</td>\n",
       "      <td>10</td>\n",
       "      <td>Franklin</td>\n",
       "      <td>None</td>\n",
       "      <td>None</td>\n",
       "      <td>None</td>\n",
       "      <td>None</td>\n",
       "      <td>https://pbs.twimg.com/media/DF6hr6BUMAAzZgT.jpg</td>\n",
       "      <td>2.0</td>\n",
       "      <td>basset</td>\n",
       "      <td>0.555712</td>\n",
       "      <td>True</td>\n",
       "      <td>English_springer</td>\n",
       "      <td>0.225770</td>\n",
       "      <td>True</td>\n",
       "      <td>German_short-haired_pointer</td>\n",
       "      <td>0.175219</td>\n",
       "      <td>True</td>\n",
       "      <td>8.913276e+17</td>\n",
       "      <td>9774.0</td>\n",
       "      <td>41048.0</td>\n",
       "    </tr>\n",
       "  </tbody>\n",
       "</table>\n",
       "</div>"
      ],
      "text/plain": [
       "             tweet_id  in_reply_to_status_id  in_reply_to_user_id  \\\n",
       "0  892420643555336193                    NaN                  NaN   \n",
       "1  892177421306343426                    NaN                  NaN   \n",
       "2  891815181378084864                    NaN                  NaN   \n",
       "3  891689557279858688                    NaN                  NaN   \n",
       "4  891327558926688256                    NaN                  NaN   \n",
       "\n",
       "                   timestamp  \\\n",
       "0  2017-08-01 16:23:56 +0000   \n",
       "1  2017-08-01 00:17:27 +0000   \n",
       "2  2017-07-31 00:18:03 +0000   \n",
       "3  2017-07-30 15:58:51 +0000   \n",
       "4  2017-07-29 16:00:24 +0000   \n",
       "\n",
       "                                                                               source  \\\n",
       "0  <a href=\"http://twitter.com/download/iphone\" rel=\"nofollow\">Twitter for iPhone</a>   \n",
       "1  <a href=\"http://twitter.com/download/iphone\" rel=\"nofollow\">Twitter for iPhone</a>   \n",
       "2  <a href=\"http://twitter.com/download/iphone\" rel=\"nofollow\">Twitter for iPhone</a>   \n",
       "3  <a href=\"http://twitter.com/download/iphone\" rel=\"nofollow\">Twitter for iPhone</a>   \n",
       "4  <a href=\"http://twitter.com/download/iphone\" rel=\"nofollow\">Twitter for iPhone</a>   \n",
       "\n",
       "                                                                                                                                                                 text  \\\n",
       "0                                                       This is Phineas. He's a mystical boy. Only ever appears in the hole of a donut. 13/10 https://t.co/MgUWQ76dJU   \n",
       "1  This is Tilly. She's just checking pup on you. Hopes you're doing ok. If not, she's available for pats, snugs, boops, the whole bit. 13/10 https://t.co/0Xxu71qeIV   \n",
       "2                   This is Archie. He is a rare Norwegian Pouncing Corgo. Lives in the tall grass. You never know when one may strike. 12/10 https://t.co/wUnZnhtVJB   \n",
       "3                                                             This is Darla. She commenced a snooze mid meal. 13/10 happens to the best of us https://t.co/tD36da7qLQ   \n",
       "4  This is Franklin. He would like you to stop calling him \"cute.\" He is a very fierce shark and should be respected as such. 12/10 #BarkWeek https://t.co/AtUZn91f7f   \n",
       "\n",
       "   retweeted_status_id  retweeted_status_user_id retweeted_status_timestamp  \\\n",
       "0                  NaN                       NaN                        NaN   \n",
       "1                  NaN                       NaN                        NaN   \n",
       "2                  NaN                       NaN                        NaN   \n",
       "3                  NaN                       NaN                        NaN   \n",
       "4                  NaN                       NaN                        NaN   \n",
       "\n",
       "                                                                                                                     expanded_urls  \\\n",
       "0                                                                  https://twitter.com/dog_rates/status/892420643555336193/photo/1   \n",
       "1                                                                  https://twitter.com/dog_rates/status/892177421306343426/photo/1   \n",
       "2                                                                  https://twitter.com/dog_rates/status/891815181378084864/photo/1   \n",
       "3                                                                  https://twitter.com/dog_rates/status/891689557279858688/photo/1   \n",
       "4  https://twitter.com/dog_rates/status/891327558926688256/photo/1,https://twitter.com/dog_rates/status/891327558926688256/photo/1   \n",
       "\n",
       "   rating_numerator  rating_denominator      name doggo floofer pupper puppo  \\\n",
       "0                13                  10   Phineas  None    None   None  None   \n",
       "1                13                  10     Tilly  None    None   None  None   \n",
       "2                12                  10    Archie  None    None   None  None   \n",
       "3                13                  10     Darla  None    None   None  None   \n",
       "4                12                  10  Franklin  None    None   None  None   \n",
       "\n",
       "                                           jpg_url  img_num           p1  \\\n",
       "0  https://pbs.twimg.com/media/DGKD1-bXoAAIAUK.jpg      1.0       orange   \n",
       "1  https://pbs.twimg.com/media/DGGmoV4XsAAUL6n.jpg      1.0    Chihuahua   \n",
       "2  https://pbs.twimg.com/media/DGBdLU1WsAANxJ9.jpg      1.0    Chihuahua   \n",
       "3  https://pbs.twimg.com/media/DF_q7IAWsAEuuN8.jpg      1.0  paper_towel   \n",
       "4  https://pbs.twimg.com/media/DF6hr6BUMAAzZgT.jpg      2.0       basset   \n",
       "\n",
       "    p1_conf p1_dog                  p2   p2_conf p2_dog  \\\n",
       "0  0.097049  False               bagel  0.085851  False   \n",
       "1  0.323581   True            Pekinese  0.090647   True   \n",
       "2  0.716012   True            malamute  0.078253   True   \n",
       "3  0.170278  False  Labrador_retriever  0.168086   True   \n",
       "4  0.555712   True    English_springer  0.225770   True   \n",
       "\n",
       "                            p3   p3_conf p3_dog            id  retweet_count  \\\n",
       "0                       banana  0.076110  False  8.924206e+17         8853.0   \n",
       "1                     papillon  0.068957   True  8.921774e+17         6514.0   \n",
       "2                       kelpie  0.031379   True  8.918152e+17         4328.0   \n",
       "3                      spatula  0.040836  False  8.916896e+17         8964.0   \n",
       "4  German_short-haired_pointer  0.175219   True  8.913276e+17         9774.0   \n",
       "\n",
       "   favorite_count  \n",
       "0         39467.0  \n",
       "1         33819.0  \n",
       "2         25461.0  \n",
       "3         42908.0  \n",
       "4         41048.0  "
      ]
     },
     "execution_count": 48,
     "metadata": {},
     "output_type": "execute_result"
    }
   ],
   "source": [
    "df_clean_data.head()"
   ]
  },
  {
   "cell_type": "code",
   "execution_count": null,
   "id": "88e292a8-19c4-47b7-8e6c-d12fd2f4f55d",
   "metadata": {},
   "outputs": [],
   "source": []
  },
  {
   "cell_type": "markdown",
   "id": "4bf05170-8ab6-48fa-a6ac-ad8868dbbf8a",
   "metadata": {},
   "source": [
    "### Define\n",
    "- Delete Nan nulls rows and drop unnecessary columns (retweeted_id, retweeted_status_user_id, retweeted_status_timestamp,\n",
    "  in_reply_to_status_id, in_reply_to_user_id, id, extended_url) using the drop method."
   ]
  },
  {
   "cell_type": "markdown",
   "id": "81f3a191-1cb2-47c5-9073-0e7c61b26971",
   "metadata": {},
   "source": [
    "### Code"
   ]
  },
  {
   "cell_type": "code",
   "execution_count": 49,
   "id": "4cc6bdad-01ac-422f-949e-2fe3ada7aa62",
   "metadata": {},
   "outputs": [],
   "source": [
    "twitter_clean_data = df_clean_data.copy()"
   ]
  },
  {
   "cell_type": "code",
   "execution_count": 51,
   "id": "58e83f22-4d32-453b-ac48-21ea626636e7",
   "metadata": {},
   "outputs": [],
   "source": [
    "# create a loop to iterate each row in the column 'retweeted_status_id' and remove row if not NaN. \n",
    "#Do the same with the column 'in_reply_to_status_id\n",
    "\n",
    "for t, value in twitter_clean_data.iterrows():\n",
    "    if not pd.isnull(value['retweeted_status_id']):\n",
    "        twitter_clean_data.drop(t, inplace=True)\n"
   ]
  },
  {
   "cell_type": "code",
   "execution_count": 52,
   "id": "3b3a3ba2-5fe2-401a-91e3-b092c1bd316a",
   "metadata": {},
   "outputs": [],
   "source": [
    "for t, value in twitter_clean_data.iterrows():\n",
    "    if not pd.isnull(value['in_reply_to_status_id']):\n",
    "        twitter_clean_data.drop(t, inplace=True)"
   ]
  },
  {
   "cell_type": "code",
   "execution_count": 53,
   "id": "22982ecb-7cb3-439b-9eb0-892eb4061a42",
   "metadata": {},
   "outputs": [],
   "source": [
    "twitter_clean_data = twitter_clean_data.drop(['in_reply_to_status_id','in_reply_to_user_id','retweeted_status_id','retweeted_status_user_id','retweeted_status_timestamp','expanded_urls','id'],axis=1)"
   ]
  },
  {
   "cell_type": "markdown",
   "id": "ad1b0bd2-eb96-4d74-b839-1713c96cdeef",
   "metadata": {},
   "source": [
    "### Test"
   ]
  },
  {
   "cell_type": "code",
   "execution_count": 55,
   "id": "65eb0109-7dd3-4eff-b3f1-1efce262a7cf",
   "metadata": {},
   "outputs": [
    {
     "name": "stdout",
     "output_type": "stream",
     "text": [
      "<class 'pandas.core.frame.DataFrame'>\n",
      "Int64Index: 2097 entries, 0 to 2355\n",
      "Data columns (total 24 columns):\n",
      " #   Column              Non-Null Count  Dtype  \n",
      "---  ------              --------------  -----  \n",
      " 0   tweet_id            2097 non-null   int64  \n",
      " 1   timestamp           2097 non-null   object \n",
      " 2   source              2097 non-null   object \n",
      " 3   text                2097 non-null   object \n",
      " 4   rating_numerator    2097 non-null   int64  \n",
      " 5   rating_denominator  2097 non-null   int64  \n",
      " 6   name                2097 non-null   object \n",
      " 7   doggo               2097 non-null   object \n",
      " 8   floofer             2097 non-null   object \n",
      " 9   pupper              2097 non-null   object \n",
      " 10  puppo               2097 non-null   object \n",
      " 11  jpg_url             1971 non-null   object \n",
      " 12  img_num             1971 non-null   float64\n",
      " 13  p1                  1971 non-null   object \n",
      " 14  p1_conf             1971 non-null   float64\n",
      " 15  p1_dog              1971 non-null   object \n",
      " 16  p2                  1971 non-null   object \n",
      " 17  p2_conf             1971 non-null   float64\n",
      " 18  p2_dog              1971 non-null   object \n",
      " 19  p3                  1971 non-null   object \n",
      " 20  p3_conf             1971 non-null   float64\n",
      " 21  p3_dog              1971 non-null   object \n",
      " 22  retweet_count       2097 non-null   float64\n",
      " 23  favorite_count      2097 non-null   float64\n",
      "dtypes: float64(6), int64(3), object(15)\n",
      "memory usage: 409.6+ KB\n"
     ]
    }
   ],
   "source": [
    "twitter_clean_data.info()"
   ]
  },
  {
   "cell_type": "code",
   "execution_count": null,
   "id": "e16327bf-8eef-4cd5-87d5-4288b278fe7a",
   "metadata": {},
   "outputs": [],
   "source": []
  },
  {
   "cell_type": "markdown",
   "id": "fc93ab83-f4b1-4535-b319-0d4e7f156e2c",
   "metadata": {},
   "source": [
    "### Define\n",
    "- Create a column called dog_stage using the values in the columns (doggo, floofer, pupper, puppo). Use the metl function. After done, drop the columns (doggo, floofer, pupper, puppo)."
   ]
  },
  {
   "cell_type": "markdown",
   "id": "e3656a36-9ce1-427c-845e-19af9f267bcb",
   "metadata": {},
   "source": [
    "### Code"
   ]
  },
  {
   "cell_type": "code",
   "execution_count": 59,
   "id": "7e742c73-e580-44d7-96f7-43fcf940e57f",
   "metadata": {},
   "outputs": [
    {
     "name": "stderr",
     "output_type": "stream",
     "text": [
      "C:\\Users\\Sindi\\AppData\\Local\\Temp\\ipykernel_22476\\185928538.py:3: FutureWarning: The default value of regex will change from True to False in a future version.\n",
      "  twitter_clean_data['dog_stage'] = twitter_clean_data['dog_stage'].str.replace(r'(None,)', repl='')\n"
     ]
    }
   ],
   "source": [
    "twitter_clean_data['dog_stage'] = twitter_clean_data[['puppo', 'pupper', 'floofer', 'doggo']].apply(\n",
    "    lambda x: ','.join(x.astype(str)),axis=1)\n",
    "twitter_clean_data['dog_stage'] = twitter_clean_data['dog_stage'].str.replace(r'(None,)', repl='')\n",
    "twitter_clean_data.drop(['puppo','pupper','floofer','doggo'], axis=1, inplace=True)"
   ]
  },
  {
   "cell_type": "code",
   "execution_count": null,
   "id": "d95b1a96-7c75-4f02-98dd-5e5563950355",
   "metadata": {},
   "outputs": [],
   "source": []
  },
  {
   "cell_type": "markdown",
   "id": "bdebd87a-9161-4ee3-8426-03cf77391f5e",
   "metadata": {},
   "source": [
    "### Test"
   ]
  },
  {
   "cell_type": "code",
   "execution_count": 60,
   "id": "06eb5bef-7e7b-4ec5-8b1c-259111a13a80",
   "metadata": {},
   "outputs": [
    {
     "data": {
      "text/plain": [
       "None             1761\n",
       "pupper,None       221\n",
       "doggo              72\n",
       "puppo,None         23\n",
       "floofer,None        9\n",
       "pupper,doggo        9\n",
       "puppo,doggo         1\n",
       "floofer,doggo       1\n",
       "Name: dog_stage, dtype: int64"
      ]
     },
     "execution_count": 60,
     "metadata": {},
     "output_type": "execute_result"
    }
   ],
   "source": [
    "twitter_clean_data['dog_stage'].value_counts()"
   ]
  },
  {
   "cell_type": "code",
   "execution_count": 61,
   "id": "fc076280-658e-452a-ad4d-544827d87135",
   "metadata": {},
   "outputs": [
    {
     "name": "stdout",
     "output_type": "stream",
     "text": [
      "<class 'pandas.core.frame.DataFrame'>\n",
      "Int64Index: 2097 entries, 0 to 2355\n",
      "Data columns (total 21 columns):\n",
      " #   Column              Non-Null Count  Dtype  \n",
      "---  ------              --------------  -----  \n",
      " 0   tweet_id            2097 non-null   int64  \n",
      " 1   timestamp           2097 non-null   object \n",
      " 2   source              2097 non-null   object \n",
      " 3   text                2097 non-null   object \n",
      " 4   rating_numerator    2097 non-null   int64  \n",
      " 5   rating_denominator  2097 non-null   int64  \n",
      " 6   name                2097 non-null   object \n",
      " 7   jpg_url             1971 non-null   object \n",
      " 8   img_num             1971 non-null   float64\n",
      " 9   p1                  1971 non-null   object \n",
      " 10  p1_conf             1971 non-null   float64\n",
      " 11  p1_dog              1971 non-null   object \n",
      " 12  p2                  1971 non-null   object \n",
      " 13  p2_conf             1971 non-null   float64\n",
      " 14  p2_dog              1971 non-null   object \n",
      " 15  p3                  1971 non-null   object \n",
      " 16  p3_conf             1971 non-null   float64\n",
      " 17  p3_dog              1971 non-null   object \n",
      " 18  retweet_count       2097 non-null   float64\n",
      " 19  favorite_count      2097 non-null   float64\n",
      " 20  dog_stage           2097 non-null   object \n",
      "dtypes: float64(6), int64(3), object(12)\n",
      "memory usage: 360.4+ KB\n"
     ]
    }
   ],
   "source": [
    "twitter_clean_data.info()"
   ]
  },
  {
   "cell_type": "markdown",
   "id": "da6037d5-fce7-4a3d-b0eb-a6a7e3493bef",
   "metadata": {},
   "source": [
    "### Define\n",
    "- Change the data type for the column 'timestamp' from object to datetime."
   ]
  },
  {
   "cell_type": "markdown",
   "id": "65faee9a-8ef2-4b5f-b73c-f8ce44ba10b1",
   "metadata": {},
   "source": [
    "### Code"
   ]
  },
  {
   "cell_type": "code",
   "execution_count": 63,
   "id": "845ff81f-4a00-4fe5-ae96-618475415d73",
   "metadata": {},
   "outputs": [],
   "source": [
    "twitter_clean_data['timestamp'] = pd.to_datetime(twitter_clean_data['timestamp'])\n",
    "twitter_clean_data['year'] = twitter_clean_data['timestamp'].dt.year\n"
   ]
  },
  {
   "cell_type": "markdown",
   "id": "3e4ff66a-5bab-4b59-adf0-49a7a3d0a43c",
   "metadata": {},
   "source": [
    "### Test"
   ]
  },
  {
   "cell_type": "code",
   "execution_count": 64,
   "id": "632c2bde-d947-4c25-a188-d7d234c4403f",
   "metadata": {},
   "outputs": [
    {
     "name": "stdout",
     "output_type": "stream",
     "text": [
      "['tweet_id', 'timestamp', 'source', 'text', 'rating_numerator', 'rating_denominator', 'name', 'jpg_url', 'img_num', 'p1', 'p1_conf', 'p1_dog', 'p2', 'p2_conf', 'p2_dog', 'p3', 'p3_conf', 'p3_dog', 'retweet_count', 'favorite_count', 'dog_stage', 'year']\n"
     ]
    },
    {
     "data": {
      "text/html": [
       "<div>\n",
       "<style scoped>\n",
       "    .dataframe tbody tr th:only-of-type {\n",
       "        vertical-align: middle;\n",
       "    }\n",
       "\n",
       "    .dataframe tbody tr th {\n",
       "        vertical-align: top;\n",
       "    }\n",
       "\n",
       "    .dataframe thead th {\n",
       "        text-align: right;\n",
       "    }\n",
       "</style>\n",
       "<table border=\"1\" class=\"dataframe\">\n",
       "  <thead>\n",
       "    <tr style=\"text-align: right;\">\n",
       "      <th></th>\n",
       "      <th>tweet_id</th>\n",
       "      <th>timestamp</th>\n",
       "      <th>source</th>\n",
       "      <th>text</th>\n",
       "      <th>rating_numerator</th>\n",
       "      <th>rating_denominator</th>\n",
       "      <th>name</th>\n",
       "      <th>jpg_url</th>\n",
       "      <th>img_num</th>\n",
       "      <th>p1</th>\n",
       "      <th>p1_conf</th>\n",
       "      <th>p1_dog</th>\n",
       "      <th>p2</th>\n",
       "      <th>p2_conf</th>\n",
       "      <th>p2_dog</th>\n",
       "      <th>p3</th>\n",
       "      <th>p3_conf</th>\n",
       "      <th>p3_dog</th>\n",
       "      <th>retweet_count</th>\n",
       "      <th>favorite_count</th>\n",
       "      <th>dog_stage</th>\n",
       "      <th>year</th>\n",
       "    </tr>\n",
       "  </thead>\n",
       "  <tbody>\n",
       "    <tr>\n",
       "      <th>0</th>\n",
       "      <td>892420643555336193</td>\n",
       "      <td>2017-08-01 16:23:56+00:00</td>\n",
       "      <td>&lt;a href=\"http://twitter.com/download/iphone\" rel=\"nofollow\"&gt;Twitter for iPhone&lt;/a&gt;</td>\n",
       "      <td>This is Phineas. He's a mystical boy. Only ever appears in the hole of a donut. 13/10 https://t.co/MgUWQ76dJU</td>\n",
       "      <td>13</td>\n",
       "      <td>10</td>\n",
       "      <td>Phineas</td>\n",
       "      <td>https://pbs.twimg.com/media/DGKD1-bXoAAIAUK.jpg</td>\n",
       "      <td>1.0</td>\n",
       "      <td>orange</td>\n",
       "      <td>0.097049</td>\n",
       "      <td>False</td>\n",
       "      <td>bagel</td>\n",
       "      <td>0.085851</td>\n",
       "      <td>False</td>\n",
       "      <td>banana</td>\n",
       "      <td>0.076110</td>\n",
       "      <td>False</td>\n",
       "      <td>8853.0</td>\n",
       "      <td>39467.0</td>\n",
       "      <td>None</td>\n",
       "      <td>2017</td>\n",
       "    </tr>\n",
       "    <tr>\n",
       "      <th>1</th>\n",
       "      <td>892177421306343426</td>\n",
       "      <td>2017-08-01 00:17:27+00:00</td>\n",
       "      <td>&lt;a href=\"http://twitter.com/download/iphone\" rel=\"nofollow\"&gt;Twitter for iPhone&lt;/a&gt;</td>\n",
       "      <td>This is Tilly. She's just checking pup on you. Hopes you're doing ok. If not, she's available for pats, snugs, boops, the whole bit. 13/10 https://t.co/0Xxu71qeIV</td>\n",
       "      <td>13</td>\n",
       "      <td>10</td>\n",
       "      <td>Tilly</td>\n",
       "      <td>https://pbs.twimg.com/media/DGGmoV4XsAAUL6n.jpg</td>\n",
       "      <td>1.0</td>\n",
       "      <td>Chihuahua</td>\n",
       "      <td>0.323581</td>\n",
       "      <td>True</td>\n",
       "      <td>Pekinese</td>\n",
       "      <td>0.090647</td>\n",
       "      <td>True</td>\n",
       "      <td>papillon</td>\n",
       "      <td>0.068957</td>\n",
       "      <td>True</td>\n",
       "      <td>6514.0</td>\n",
       "      <td>33819.0</td>\n",
       "      <td>None</td>\n",
       "      <td>2017</td>\n",
       "    </tr>\n",
       "    <tr>\n",
       "      <th>2</th>\n",
       "      <td>891815181378084864</td>\n",
       "      <td>2017-07-31 00:18:03+00:00</td>\n",
       "      <td>&lt;a href=\"http://twitter.com/download/iphone\" rel=\"nofollow\"&gt;Twitter for iPhone&lt;/a&gt;</td>\n",
       "      <td>This is Archie. He is a rare Norwegian Pouncing Corgo. Lives in the tall grass. You never know when one may strike. 12/10 https://t.co/wUnZnhtVJB</td>\n",
       "      <td>12</td>\n",
       "      <td>10</td>\n",
       "      <td>Archie</td>\n",
       "      <td>https://pbs.twimg.com/media/DGBdLU1WsAANxJ9.jpg</td>\n",
       "      <td>1.0</td>\n",
       "      <td>Chihuahua</td>\n",
       "      <td>0.716012</td>\n",
       "      <td>True</td>\n",
       "      <td>malamute</td>\n",
       "      <td>0.078253</td>\n",
       "      <td>True</td>\n",
       "      <td>kelpie</td>\n",
       "      <td>0.031379</td>\n",
       "      <td>True</td>\n",
       "      <td>4328.0</td>\n",
       "      <td>25461.0</td>\n",
       "      <td>None</td>\n",
       "      <td>2017</td>\n",
       "    </tr>\n",
       "    <tr>\n",
       "      <th>3</th>\n",
       "      <td>891689557279858688</td>\n",
       "      <td>2017-07-30 15:58:51+00:00</td>\n",
       "      <td>&lt;a href=\"http://twitter.com/download/iphone\" rel=\"nofollow\"&gt;Twitter for iPhone&lt;/a&gt;</td>\n",
       "      <td>This is Darla. She commenced a snooze mid meal. 13/10 happens to the best of us https://t.co/tD36da7qLQ</td>\n",
       "      <td>13</td>\n",
       "      <td>10</td>\n",
       "      <td>Darla</td>\n",
       "      <td>https://pbs.twimg.com/media/DF_q7IAWsAEuuN8.jpg</td>\n",
       "      <td>1.0</td>\n",
       "      <td>paper_towel</td>\n",
       "      <td>0.170278</td>\n",
       "      <td>False</td>\n",
       "      <td>Labrador_retriever</td>\n",
       "      <td>0.168086</td>\n",
       "      <td>True</td>\n",
       "      <td>spatula</td>\n",
       "      <td>0.040836</td>\n",
       "      <td>False</td>\n",
       "      <td>8964.0</td>\n",
       "      <td>42908.0</td>\n",
       "      <td>None</td>\n",
       "      <td>2017</td>\n",
       "    </tr>\n",
       "    <tr>\n",
       "      <th>4</th>\n",
       "      <td>891327558926688256</td>\n",
       "      <td>2017-07-29 16:00:24+00:00</td>\n",
       "      <td>&lt;a href=\"http://twitter.com/download/iphone\" rel=\"nofollow\"&gt;Twitter for iPhone&lt;/a&gt;</td>\n",
       "      <td>This is Franklin. He would like you to stop calling him \"cute.\" He is a very fierce shark and should be respected as such. 12/10 #BarkWeek https://t.co/AtUZn91f7f</td>\n",
       "      <td>12</td>\n",
       "      <td>10</td>\n",
       "      <td>Franklin</td>\n",
       "      <td>https://pbs.twimg.com/media/DF6hr6BUMAAzZgT.jpg</td>\n",
       "      <td>2.0</td>\n",
       "      <td>basset</td>\n",
       "      <td>0.555712</td>\n",
       "      <td>True</td>\n",
       "      <td>English_springer</td>\n",
       "      <td>0.225770</td>\n",
       "      <td>True</td>\n",
       "      <td>German_short-haired_pointer</td>\n",
       "      <td>0.175219</td>\n",
       "      <td>True</td>\n",
       "      <td>9774.0</td>\n",
       "      <td>41048.0</td>\n",
       "      <td>None</td>\n",
       "      <td>2017</td>\n",
       "    </tr>\n",
       "  </tbody>\n",
       "</table>\n",
       "</div>"
      ],
      "text/plain": [
       "             tweet_id                 timestamp  \\\n",
       "0  892420643555336193 2017-08-01 16:23:56+00:00   \n",
       "1  892177421306343426 2017-08-01 00:17:27+00:00   \n",
       "2  891815181378084864 2017-07-31 00:18:03+00:00   \n",
       "3  891689557279858688 2017-07-30 15:58:51+00:00   \n",
       "4  891327558926688256 2017-07-29 16:00:24+00:00   \n",
       "\n",
       "                                                                               source  \\\n",
       "0  <a href=\"http://twitter.com/download/iphone\" rel=\"nofollow\">Twitter for iPhone</a>   \n",
       "1  <a href=\"http://twitter.com/download/iphone\" rel=\"nofollow\">Twitter for iPhone</a>   \n",
       "2  <a href=\"http://twitter.com/download/iphone\" rel=\"nofollow\">Twitter for iPhone</a>   \n",
       "3  <a href=\"http://twitter.com/download/iphone\" rel=\"nofollow\">Twitter for iPhone</a>   \n",
       "4  <a href=\"http://twitter.com/download/iphone\" rel=\"nofollow\">Twitter for iPhone</a>   \n",
       "\n",
       "                                                                                                                                                                 text  \\\n",
       "0                                                       This is Phineas. He's a mystical boy. Only ever appears in the hole of a donut. 13/10 https://t.co/MgUWQ76dJU   \n",
       "1  This is Tilly. She's just checking pup on you. Hopes you're doing ok. If not, she's available for pats, snugs, boops, the whole bit. 13/10 https://t.co/0Xxu71qeIV   \n",
       "2                   This is Archie. He is a rare Norwegian Pouncing Corgo. Lives in the tall grass. You never know when one may strike. 12/10 https://t.co/wUnZnhtVJB   \n",
       "3                                                             This is Darla. She commenced a snooze mid meal. 13/10 happens to the best of us https://t.co/tD36da7qLQ   \n",
       "4  This is Franklin. He would like you to stop calling him \"cute.\" He is a very fierce shark and should be respected as such. 12/10 #BarkWeek https://t.co/AtUZn91f7f   \n",
       "\n",
       "   rating_numerator  rating_denominator      name  \\\n",
       "0                13                  10   Phineas   \n",
       "1                13                  10     Tilly   \n",
       "2                12                  10    Archie   \n",
       "3                13                  10     Darla   \n",
       "4                12                  10  Franklin   \n",
       "\n",
       "                                           jpg_url  img_num           p1  \\\n",
       "0  https://pbs.twimg.com/media/DGKD1-bXoAAIAUK.jpg      1.0       orange   \n",
       "1  https://pbs.twimg.com/media/DGGmoV4XsAAUL6n.jpg      1.0    Chihuahua   \n",
       "2  https://pbs.twimg.com/media/DGBdLU1WsAANxJ9.jpg      1.0    Chihuahua   \n",
       "3  https://pbs.twimg.com/media/DF_q7IAWsAEuuN8.jpg      1.0  paper_towel   \n",
       "4  https://pbs.twimg.com/media/DF6hr6BUMAAzZgT.jpg      2.0       basset   \n",
       "\n",
       "    p1_conf p1_dog                  p2   p2_conf p2_dog  \\\n",
       "0  0.097049  False               bagel  0.085851  False   \n",
       "1  0.323581   True            Pekinese  0.090647   True   \n",
       "2  0.716012   True            malamute  0.078253   True   \n",
       "3  0.170278  False  Labrador_retriever  0.168086   True   \n",
       "4  0.555712   True    English_springer  0.225770   True   \n",
       "\n",
       "                            p3   p3_conf p3_dog  retweet_count  \\\n",
       "0                       banana  0.076110  False         8853.0   \n",
       "1                     papillon  0.068957   True         6514.0   \n",
       "2                       kelpie  0.031379   True         4328.0   \n",
       "3                      spatula  0.040836  False         8964.0   \n",
       "4  German_short-haired_pointer  0.175219   True         9774.0   \n",
       "\n",
       "   favorite_count dog_stage  year  \n",
       "0         39467.0      None  2017  \n",
       "1         33819.0      None  2017  \n",
       "2         25461.0      None  2017  \n",
       "3         42908.0      None  2017  \n",
       "4         41048.0      None  2017  "
      ]
     },
     "execution_count": 64,
     "metadata": {},
     "output_type": "execute_result"
    }
   ],
   "source": [
    "print(list(twitter_clean_data))\n",
    "twitter_clean_data.head()"
   ]
  },
  {
   "cell_type": "markdown",
   "id": "0830056f-8e94-4643-81b4-75118a78a80c",
   "metadata": {},
   "source": []
  },
  {
   "cell_type": "markdown",
   "id": "2f1e70f9-c665-4156-b506-3211f5b64708",
   "metadata": {},
   "source": [
    "### Define\n",
    "- Delete duplicate tweet_id. Use the method drop_duplicates()"
   ]
  },
  {
   "cell_type": "markdown",
   "id": "7e6a445e-ea80-4d1a-95ea-e005a409222c",
   "metadata": {},
   "source": [
    "### Code"
   ]
  },
  {
   "cell_type": "code",
   "execution_count": 65,
   "id": "7140fbb7-f2fb-4db2-be1b-07b1db10a923",
   "metadata": {},
   "outputs": [],
   "source": [
    "twitter_clean_data= twitter_clean_data.drop_duplicates(subset='tweet_id')"
   ]
  },
  {
   "cell_type": "markdown",
   "id": "190725bc-4d00-425d-add0-6c7f6897c167",
   "metadata": {},
   "source": [
    "### Test"
   ]
  },
  {
   "cell_type": "code",
   "execution_count": 66,
   "id": "3dd52ceb-86ea-4892-8ccd-9b61e1dd45a9",
   "metadata": {},
   "outputs": [
    {
     "name": "stdout",
     "output_type": "stream",
     "text": [
      "<class 'pandas.core.frame.DataFrame'>\n",
      "Int64Index: 2097 entries, 0 to 2355\n",
      "Data columns (total 22 columns):\n",
      " #   Column              Non-Null Count  Dtype              \n",
      "---  ------              --------------  -----              \n",
      " 0   tweet_id            2097 non-null   int64              \n",
      " 1   timestamp           2097 non-null   datetime64[ns, UTC]\n",
      " 2   source              2097 non-null   object             \n",
      " 3   text                2097 non-null   object             \n",
      " 4   rating_numerator    2097 non-null   int64              \n",
      " 5   rating_denominator  2097 non-null   int64              \n",
      " 6   name                2097 non-null   object             \n",
      " 7   jpg_url             1971 non-null   object             \n",
      " 8   img_num             1971 non-null   float64            \n",
      " 9   p1                  1971 non-null   object             \n",
      " 10  p1_conf             1971 non-null   float64            \n",
      " 11  p1_dog              1971 non-null   object             \n",
      " 12  p2                  1971 non-null   object             \n",
      " 13  p2_conf             1971 non-null   float64            \n",
      " 14  p2_dog              1971 non-null   object             \n",
      " 15  p3                  1971 non-null   object             \n",
      " 16  p3_conf             1971 non-null   float64            \n",
      " 17  p3_dog              1971 non-null   object             \n",
      " 18  retweet_count       2097 non-null   float64            \n",
      " 19  favorite_count      2097 non-null   float64            \n",
      " 20  dog_stage           2097 non-null   object             \n",
      " 21  year                2097 non-null   int64              \n",
      "dtypes: datetime64[ns, UTC](1), float64(6), int64(4), object(11)\n",
      "memory usage: 376.8+ KB\n"
     ]
    }
   ],
   "source": [
    "twitter_clean_data.info()"
   ]
  },
  {
   "cell_type": "code",
   "execution_count": null,
   "id": "925af801-307a-4bbc-bca1-b044a445c4e0",
   "metadata": {},
   "outputs": [],
   "source": []
  },
  {
   "cell_type": "markdown",
   "id": "dc9e83b6-06c2-44af-8258-1a92122680ce",
   "metadata": {},
   "source": [
    "### Define\n",
    "- Keep only the tweets with images filtering the column jpg_url."
   ]
  },
  {
   "cell_type": "markdown",
   "id": "7646bfe5-66ae-4753-9486-0ed485d4998f",
   "metadata": {},
   "source": [
    "### Code"
   ]
  },
  {
   "cell_type": "code",
   "execution_count": 68,
   "id": "5d9dba85-d880-4faf-a596-1e79e6c55c7a",
   "metadata": {},
   "outputs": [],
   "source": [
    "twitter_clean_data = twitter_clean_data.loc[twitter_clean_data[\"jpg_url\"].notnull()]\n",
    "\n"
   ]
  },
  {
   "cell_type": "markdown",
   "id": "ec55fe6d-e25e-4919-a16f-cf2da9722730",
   "metadata": {},
   "source": [
    "### Test"
   ]
  },
  {
   "cell_type": "code",
   "execution_count": 70,
   "id": "da0d0d08-f944-44b6-8f08-ccd75904aee6",
   "metadata": {},
   "outputs": [
    {
     "name": "stdout",
     "output_type": "stream",
     "text": [
      "<class 'pandas.core.frame.DataFrame'>\n",
      "Int64Index: 1971 entries, 0 to 2355\n",
      "Data columns (total 22 columns):\n",
      " #   Column              Non-Null Count  Dtype              \n",
      "---  ------              --------------  -----              \n",
      " 0   tweet_id            1971 non-null   int64              \n",
      " 1   timestamp           1971 non-null   datetime64[ns, UTC]\n",
      " 2   source              1971 non-null   object             \n",
      " 3   text                1971 non-null   object             \n",
      " 4   rating_numerator    1971 non-null   int64              \n",
      " 5   rating_denominator  1971 non-null   int64              \n",
      " 6   name                1971 non-null   object             \n",
      " 7   jpg_url             1971 non-null   object             \n",
      " 8   img_num             1971 non-null   float64            \n",
      " 9   p1                  1971 non-null   object             \n",
      " 10  p1_conf             1971 non-null   float64            \n",
      " 11  p1_dog              1971 non-null   object             \n",
      " 12  p2                  1971 non-null   object             \n",
      " 13  p2_conf             1971 non-null   float64            \n",
      " 14  p2_dog              1971 non-null   object             \n",
      " 15  p3                  1971 non-null   object             \n",
      " 16  p3_conf             1971 non-null   float64            \n",
      " 17  p3_dog              1971 non-null   object             \n",
      " 18  retweet_count       1971 non-null   float64            \n",
      " 19  favorite_count      1971 non-null   float64            \n",
      " 20  dog_stage           1971 non-null   object             \n",
      " 21  year                1971 non-null   int64              \n",
      "dtypes: datetime64[ns, UTC](1), float64(6), int64(4), object(11)\n",
      "memory usage: 354.2+ KB\n",
      "      tweet_id  timestamp  source   text  rating_numerator  \\\n",
      "0        False      False   False  False             False   \n",
      "1        False      False   False  False             False   \n",
      "2        False      False   False  False             False   \n",
      "3        False      False   False  False             False   \n",
      "4        False      False   False  False             False   \n",
      "...        ...        ...     ...    ...               ...   \n",
      "2351     False      False   False  False             False   \n",
      "2352     False      False   False  False             False   \n",
      "2353     False      False   False  False             False   \n",
      "2354     False      False   False  False             False   \n",
      "2355     False      False   False  False             False   \n",
      "\n",
      "      rating_denominator   name  jpg_url  img_num     p1  p1_conf  p1_dog  \\\n",
      "0                  False  False    False    False  False    False   False   \n",
      "1                  False  False    False    False  False    False   False   \n",
      "2                  False  False    False    False  False    False   False   \n",
      "3                  False  False    False    False  False    False   False   \n",
      "4                  False  False    False    False  False    False   False   \n",
      "...                  ...    ...      ...      ...    ...      ...     ...   \n",
      "2351               False  False    False    False  False    False   False   \n",
      "2352               False  False    False    False  False    False   False   \n",
      "2353               False  False    False    False  False    False   False   \n",
      "2354               False  False    False    False  False    False   False   \n",
      "2355               False  False    False    False  False    False   False   \n",
      "\n",
      "         p2  p2_conf  p2_dog     p3  p3_conf  p3_dog  retweet_count  \\\n",
      "0     False    False   False  False    False   False          False   \n",
      "1     False    False   False  False    False   False          False   \n",
      "2     False    False   False  False    False   False          False   \n",
      "3     False    False   False  False    False   False          False   \n",
      "4     False    False   False  False    False   False          False   \n",
      "...     ...      ...     ...    ...      ...     ...            ...   \n",
      "2351  False    False   False  False    False   False          False   \n",
      "2352  False    False   False  False    False   False          False   \n",
      "2353  False    False   False  False    False   False          False   \n",
      "2354  False    False   False  False    False   False          False   \n",
      "2355  False    False   False  False    False   False          False   \n",
      "\n",
      "      favorite_count  dog_stage   year  \n",
      "0              False      False  False  \n",
      "1              False      False  False  \n",
      "2              False      False  False  \n",
      "3              False      False  False  \n",
      "4              False      False  False  \n",
      "...              ...        ...    ...  \n",
      "2351           False      False  False  \n",
      "2352           False      False  False  \n",
      "2353           False      False  False  \n",
      "2354           False      False  False  \n",
      "2355           False      False  False  \n",
      "\n",
      "[1971 rows x 22 columns]\n"
     ]
    }
   ],
   "source": [
    "twitter_clean_data.info()\n",
    "print(twitter_clean_data.isnull())"
   ]
  },
  {
   "cell_type": "code",
   "execution_count": null,
   "id": "d88e5226-4fdf-4be9-9063-c8a0f29f862c",
   "metadata": {},
   "outputs": [],
   "source": []
  },
  {
   "cell_type": "markdown",
   "id": "beef1ec6-f6a5-4078-8aa9-b2fd3711327f",
   "metadata": {},
   "source": [
    "### Define\n",
    "- Replace the invalid names in the column name for 'None'. Use a loop to iterate each row that has lowercase letter that means are invalid names."
   ]
  },
  {
   "cell_type": "markdown",
   "id": "5cd87170-73a9-44ed-a541-27e3b83c2004",
   "metadata": {},
   "source": [
    "### Code"
   ]
  },
  {
   "cell_type": "code",
   "execution_count": 71,
   "id": "5a5a5634-3d55-4983-912e-ad05dd431e89",
   "metadata": {},
   "outputs": [],
   "source": [
    "for names in twitter_clean_data['name']:\n",
    "    if names[0].islower():\n",
    "       twitter_clean_data['name'].replace(names, 'None', inplace=True)  "
   ]
  },
  {
   "cell_type": "markdown",
   "id": "41dfb625-ab6d-4a84-83af-b5fd63424718",
   "metadata": {},
   "source": [
    "### Test"
   ]
  },
  {
   "cell_type": "code",
   "execution_count": 73,
   "id": "aa383866-9f1e-4839-a46e-bd3e1ccebd94",
   "metadata": {},
   "outputs": [
    {
     "data": {
      "text/plain": [
       "2346    None\n",
       "2347    None\n",
       "2348    None\n",
       "2349    None\n",
       "2350    None\n",
       "2351    None\n",
       "2352    None\n",
       "2353    None\n",
       "2354    None\n",
       "2355    None\n",
       "Name: name, dtype: object"
      ]
     },
     "execution_count": 73,
     "metadata": {},
     "output_type": "execute_result"
    }
   ],
   "source": [
    "twitter_clean_data['name'].tail(10)"
   ]
  },
  {
   "cell_type": "markdown",
   "id": "e28932be-db50-451b-b44f-5de629b21e5e",
   "metadata": {},
   "source": [
    "### Define\n",
    "- Replace the underscore in the column p1. Use the method str.replace to change the underscore for space the same process to column p2, p3."
   ]
  },
  {
   "cell_type": "markdown",
   "id": "9e740d37-4e5d-438b-9a9f-b7dfe79191a3",
   "metadata": {},
   "source": [
    "### Code"
   ]
  },
  {
   "cell_type": "code",
   "execution_count": 74,
   "id": "4538919f-1d0c-41da-bdfd-0ed703b52057",
   "metadata": {},
   "outputs": [],
   "source": [
    "#twitter_data_df[[\"p1\", \"p2\", \"p3\"]] = twitter_data_df[[\"p1\", \"p2\", \"p3\"]].apply(lambda x: x.replace(\"_\", \" \"))\n",
    "twitter_clean_data['p1'] = twitter_clean_data['p1'].str.replace('_', ' ')\n",
    "twitter_clean_data['p2'] = twitter_clean_data['p2'].str.replace('_', ' ')\n",
    "twitter_clean_data['p3'] = twitter_clean_data['p3'].str.replace('_', ' ')"
   ]
  },
  {
   "cell_type": "markdown",
   "id": "00b303c7-f786-426d-90e2-7c36dee94bb3",
   "metadata": {},
   "source": [
    "### Test"
   ]
  },
  {
   "cell_type": "code",
   "execution_count": 75,
   "id": "e4b95101-2016-4e7d-afbb-734a2e17b5f0",
   "metadata": {},
   "outputs": [
    {
     "name": "stdout",
     "output_type": "stream",
     "text": [
      "Labrador retriever     76\n",
      "Chihuahua              57\n",
      "golden retriever       45\n",
      "Eskimo dog             36\n",
      "kelpie                 33\n",
      "                       ..\n",
      "bannister               1\n",
      "rotisserie              1\n",
      "hand blower             1\n",
      "American black bear     1\n",
      "partridge               1\n",
      "Name: p3, Length: 403, dtype: int64\n",
      "Labrador retriever          95\n",
      "golden retriever            82\n",
      "Cardigan                    72\n",
      "Chihuahua                   43\n",
      "Chesapeake Bay retriever    40\n",
      "                            ..\n",
      "screw                        1\n",
      "coffee mug                   1\n",
      "sombrero                     1\n",
      "handkerchief                 1\n",
      "mud turtle                   1\n",
      "Name: p2, Length: 397, dtype: int64\n",
      "golden retriever      137\n",
      "Labrador retriever     94\n",
      "Pembroke               88\n",
      "Chihuahua              78\n",
      "pug                    54\n",
      "                     ... \n",
      "nail                    1\n",
      "timber wolf             1\n",
      "espresso                1\n",
      "bib                     1\n",
      "desktop computer        1\n",
      "Name: p1, Length: 373, dtype: int64\n"
     ]
    }
   ],
   "source": [
    "print(twitter_clean_data[\"p3\"].value_counts())\n",
    "print(twitter_clean_data[\"p2\"].value_counts())\n",
    "print(twitter_clean_data[\"p1\"].value_counts())"
   ]
  },
  {
   "cell_type": "code",
   "execution_count": null,
   "id": "932e5f00-7a12-4bb0-b3c2-56c95dfbc1ff",
   "metadata": {},
   "outputs": [],
   "source": []
  },
  {
   "cell_type": "markdown",
   "id": "971ffa00-90c2-49fd-88b8-6b1dc522912a",
   "metadata": {},
   "source": [
    "### Define\n",
    "- Normalize the column name, p1, p2, p3 to first letter capitalized. Use the apply and title method."
   ]
  },
  {
   "cell_type": "markdown",
   "id": "b20e2780-f85a-456f-bdae-67aa7310eff4",
   "metadata": {},
   "source": [
    "### Code"
   ]
  },
  {
   "cell_type": "code",
   "execution_count": 76,
   "id": "3647d02f-cb2a-4ed5-b0b9-b2689e0b83bc",
   "metadata": {},
   "outputs": [],
   "source": [
    "twitter_clean_data[[\"name\", \"p1\", \"p2\",\"p3\"]] = twitter_clean_data[[\"name\", \"p1\", \"p2\",\"p3\"]].apply(lambda x: x.str.title())"
   ]
  },
  {
   "cell_type": "markdown",
   "id": "4c436a10-e2b9-42da-8854-4745a46af7a7",
   "metadata": {},
   "source": [
    "### Test"
   ]
  },
  {
   "cell_type": "code",
   "execution_count": 78,
   "id": "9f63f20b-bf05-499b-af6b-084fafb2f7d8",
   "metadata": {},
   "outputs": [
    {
     "name": "stdout",
     "output_type": "stream",
     "text": [
      "0         Orange\n",
      "1      Chihuahua\n",
      "2      Chihuahua\n",
      "3    Paper Towel\n",
      "4         Basset\n",
      "Name: p1, dtype: object\n",
      "0                 Bagel\n",
      "1              Pekinese\n",
      "2              Malamute\n",
      "3    Labrador Retriever\n",
      "4      English Springer\n",
      "Name: p2, dtype: object\n",
      "0                         Banana\n",
      "1                       Papillon\n",
      "2                         Kelpie\n",
      "3                        Spatula\n",
      "4    German Short-Haired Pointer\n",
      "Name: p3, dtype: object\n",
      "0     Phineas\n",
      "1       Tilly\n",
      "2      Archie\n",
      "3       Darla\n",
      "4    Franklin\n",
      "Name: name, dtype: object\n"
     ]
    }
   ],
   "source": [
    "print(twitter_clean_data[\"p1\"].head())\n",
    "print(twitter_clean_data[\"p2\"].head())\n",
    "print(twitter_clean_data[\"p3\"].head())\n",
    "print(twitter_clean_data[\"name\"].head())"
   ]
  },
  {
   "cell_type": "code",
   "execution_count": null,
   "id": "1ac9ba4d-ffa1-4ca3-8a8d-981f584867fa",
   "metadata": {},
   "outputs": [],
   "source": []
  },
  {
   "cell_type": "markdown",
   "id": "294503fe-1498-4ad9-939e-dc093c3a48ee",
   "metadata": {},
   "source": [
    "### Define\n",
    "- Change the datatype of the columns tweet_id from int64 to object, the column img_num from float to int64"
   ]
  },
  {
   "cell_type": "markdown",
   "id": "258ec50c-30fd-4f66-8028-374f57e77d7a",
   "metadata": {},
   "source": [
    "### Code"
   ]
  },
  {
   "cell_type": "code",
   "execution_count": 79,
   "id": "d9694104-d0e7-447c-897b-2b01bd6e41f1",
   "metadata": {},
   "outputs": [],
   "source": [
    "twitter_clean_data[\"tweet_id\"] = twitter_clean_data[\"tweet_id\"].astype('object')\n",
    "twitter_clean_data[\"img_num\"] = twitter_clean_data[\"img_num\"].astype('int64')"
   ]
  },
  {
   "cell_type": "markdown",
   "id": "71f6ef39-ad7e-49fe-8f53-44e18a59cf81",
   "metadata": {},
   "source": [
    "### Test"
   ]
  },
  {
   "cell_type": "code",
   "execution_count": 80,
   "id": "0a5d58a9-f5fb-42e1-a263-ed236618eeb8",
   "metadata": {},
   "outputs": [
    {
     "name": "stdout",
     "output_type": "stream",
     "text": [
      "<class 'pandas.core.frame.DataFrame'>\n",
      "Int64Index: 1971 entries, 0 to 2355\n",
      "Data columns (total 22 columns):\n",
      " #   Column              Non-Null Count  Dtype              \n",
      "---  ------              --------------  -----              \n",
      " 0   tweet_id            1971 non-null   object             \n",
      " 1   timestamp           1971 non-null   datetime64[ns, UTC]\n",
      " 2   source              1971 non-null   object             \n",
      " 3   text                1971 non-null   object             \n",
      " 4   rating_numerator    1971 non-null   int64              \n",
      " 5   rating_denominator  1971 non-null   int64              \n",
      " 6   name                1971 non-null   object             \n",
      " 7   jpg_url             1971 non-null   object             \n",
      " 8   img_num             1971 non-null   int64              \n",
      " 9   p1                  1971 non-null   object             \n",
      " 10  p1_conf             1971 non-null   float64            \n",
      " 11  p1_dog              1971 non-null   object             \n",
      " 12  p2                  1971 non-null   object             \n",
      " 13  p2_conf             1971 non-null   float64            \n",
      " 14  p2_dog              1971 non-null   object             \n",
      " 15  p3                  1971 non-null   object             \n",
      " 16  p3_conf             1971 non-null   float64            \n",
      " 17  p3_dog              1971 non-null   object             \n",
      " 18  retweet_count       1971 non-null   float64            \n",
      " 19  favorite_count      1971 non-null   float64            \n",
      " 20  dog_stage           1971 non-null   object             \n",
      " 21  year                1971 non-null   int64              \n",
      "dtypes: datetime64[ns, UTC](1), float64(5), int64(4), object(12)\n",
      "memory usage: 354.2+ KB\n"
     ]
    }
   ],
   "source": [
    "twitter_clean_data.info()"
   ]
  },
  {
   "cell_type": "markdown",
   "id": "26ee2712-2935-4540-a537-e5521bdb061b",
   "metadata": {},
   "source": [
    "### Define\n",
    "- From the column source, extract the source which the tweet was made, in this case \"Twitter for Iphone\". Import the library re and use regular expressions."
   ]
  },
  {
   "cell_type": "markdown",
   "id": "324f8cb9-9e13-48da-b60a-5fc012521feb",
   "metadata": {},
   "source": [
    "### Code"
   ]
  },
  {
   "cell_type": "code",
   "execution_count": 81,
   "id": "efda4550-95b6-4888-a83e-5f4776b522de",
   "metadata": {},
   "outputs": [],
   "source": [
    "import re"
   ]
  },
  {
   "cell_type": "code",
   "execution_count": 82,
   "id": "a81368ad-33ed-41f4-9693-c7b37617bdb1",
   "metadata": {},
   "outputs": [],
   "source": [
    "\n",
    "twitter_clean_data['source'] = twitter_clean_data['source'].apply(lambda x: re.search(r'>(.*?)<', x).group(1))"
   ]
  },
  {
   "cell_type": "markdown",
   "id": "6e1eebfe-5f35-4bf8-ad53-6fc2dc61f644",
   "metadata": {},
   "source": [
    "### Test"
   ]
  },
  {
   "cell_type": "code",
   "execution_count": 83,
   "id": "64a9eae7-34ec-412d-8063-605bdbafc91b",
   "metadata": {},
   "outputs": [
    {
     "name": "stdout",
     "output_type": "stream",
     "text": [
      "Twitter for iPhone    1932\n",
      "Twitter Web Client      28\n",
      "TweetDeck               11\n",
      "Name: source, dtype: int64\n"
     ]
    }
   ],
   "source": [
    "print(twitter_clean_data['source'].value_counts())"
   ]
  },
  {
   "cell_type": "code",
   "execution_count": null,
   "id": "7a4d8498-708e-4d7b-a77a-1115a0228c97",
   "metadata": {},
   "outputs": [],
   "source": []
  },
  {
   "cell_type": "markdown",
   "id": "afef0b60-3e70-47aa-9f2c-98491b4b2d0a",
   "metadata": {},
   "source": [
    "### Define\n",
    "- Change the names for the columns(img_num, p1, p1_conf, p1_dog, p2, p2_conf, p2_dog, p3, p3_conf, p3_dog) for more descriptive names\n",
    "   (image_count, dog_breed_1, dog_breed_1_confidence, is_a_dog_1, dog_breed_2, dog_breed_2_confidence, is_a_dog_2, dog_breed_3, dog_breed_3_confidence, is_a_dog_3)"
   ]
  },
  {
   "cell_type": "markdown",
   "id": "ca75e560-eb8c-4625-9474-5230415e7c6f",
   "metadata": {},
   "source": [
    "### Code"
   ]
  },
  {
   "cell_type": "code",
   "execution_count": 86,
   "id": "f0198f92-d59f-4e57-8e36-08aa81024fbc",
   "metadata": {},
   "outputs": [],
   "source": [
    "twitter_clean_data.rename(columns={'img_num':'count', \n",
    "                                    'p1':'dog_breed_1', \n",
    "                                    'p1_conf':'dog_breed_1_confidence', \n",
    "                                    'p1_dog':'is_a_dog_1', \n",
    "                                    'p2':'dog_breed_2', \n",
    "                                    'p2_conf':'dog_breed_2_confidence', \n",
    "                                    'p2_dog':'is_a_dog_2', \n",
    "                                    'p3':'dog_breed_3', \n",
    "                                    'p3_conf':'dog_breed_3_confidence', \n",
    "                                    'p3_dog':'is_a_dog_3'}, inplace=True)"
   ]
  },
  {
   "cell_type": "code",
   "execution_count": 88,
   "id": "b963f508-fc54-43c7-8950-ee3a8f0036e6",
   "metadata": {},
   "outputs": [],
   "source": [
    "twitter_clean_data.rename(columns={'count':'image_count'}, inplace=True)"
   ]
  },
  {
   "cell_type": "markdown",
   "id": "e874b858-58a8-4fc3-9f98-cba5955bf274",
   "metadata": {},
   "source": [
    "### Test"
   ]
  },
  {
   "cell_type": "code",
   "execution_count": 89,
   "id": "6d8b5570-860d-4704-9e28-1256c2874c25",
   "metadata": {
    "tags": []
   },
   "outputs": [
    {
     "name": "stdout",
     "output_type": "stream",
     "text": [
      "<class 'pandas.core.frame.DataFrame'>\n",
      "Int64Index: 1971 entries, 0 to 2355\n",
      "Data columns (total 22 columns):\n",
      " #   Column                  Non-Null Count  Dtype              \n",
      "---  ------                  --------------  -----              \n",
      " 0   tweet_id                1971 non-null   object             \n",
      " 1   timestamp               1971 non-null   datetime64[ns, UTC]\n",
      " 2   source                  1971 non-null   object             \n",
      " 3   text                    1971 non-null   object             \n",
      " 4   rating_numerator        1971 non-null   int64              \n",
      " 5   rating_denominator      1971 non-null   int64              \n",
      " 6   name                    1971 non-null   object             \n",
      " 7   jpg_url                 1971 non-null   object             \n",
      " 8   image_count             1971 non-null   int64              \n",
      " 9   dog_breed_1             1971 non-null   object             \n",
      " 10  dog_breed_1_confidence  1971 non-null   float64            \n",
      " 11  is_a_dog_1              1971 non-null   object             \n",
      " 12  dog_breed_2             1971 non-null   object             \n",
      " 13  dog_breed_2_confidence  1971 non-null   float64            \n",
      " 14  is_a_dog_2              1971 non-null   object             \n",
      " 15  dog_breed_3             1971 non-null   object             \n",
      " 16  dog_breed_3_confidence  1971 non-null   float64            \n",
      " 17  is_a_dog_3              1971 non-null   object             \n",
      " 18  retweet_count           1971 non-null   float64            \n",
      " 19  favorite_count          1971 non-null   float64            \n",
      " 20  dog_stage               1971 non-null   object             \n",
      " 21  year                    1971 non-null   int64              \n",
      "dtypes: datetime64[ns, UTC](1), float64(5), int64(4), object(12)\n",
      "memory usage: 354.2+ KB\n"
     ]
    }
   ],
   "source": [
    "twitter_clean_data.info()"
   ]
  },
  {
   "cell_type": "code",
   "execution_count": null,
   "id": "f61e2014-dad5-4d3f-ab82-7352d8888e0e",
   "metadata": {},
   "outputs": [],
   "source": []
  },
  {
   "cell_type": "markdown",
   "id": "d8638462-3637-409d-a298-6d92033fca54",
   "metadata": {},
   "source": [
    "For better readability and ease of analysis, I rearranged the columns in a more logical order."
   ]
  },
  {
   "cell_type": "code",
   "execution_count": 90,
   "id": "f0cbbf77-5ee9-48a5-a3a1-cfc7e0d1af58",
   "metadata": {},
   "outputs": [],
   "source": [
    "twitter_clean_data= twitter_clean_data.reindex(columns=['tweet_id', 'text', 'name','jpg_url','image_count','dog_stage',\n",
    "                                'rating_numerator','rating_denominator','dog_breed_1','dog_breed_1_confidence','is_a_dog_1',\n",
    "                                'dog_breed_2','dog_breed_2_confidence','is_a_dog_2 ','dog_breed_3','dog_breed_3_confidence','is_a_dog_3',\n",
    "                                'retweet_count',\n",
    "                                'favorite_count','timestamp','year','source'])"
   ]
  },
  {
   "cell_type": "code",
   "execution_count": null,
   "id": "87a728ca-53dd-41aa-b4da-8a4e02bed9bb",
   "metadata": {},
   "outputs": [],
   "source": []
  },
  {
   "cell_type": "code",
   "execution_count": 91,
   "id": "61c21195-dd9e-4c5e-9337-9b550f16e48e",
   "metadata": {},
   "outputs": [
    {
     "data": {
      "text/html": [
       "<div>\n",
       "<style scoped>\n",
       "    .dataframe tbody tr th:only-of-type {\n",
       "        vertical-align: middle;\n",
       "    }\n",
       "\n",
       "    .dataframe tbody tr th {\n",
       "        vertical-align: top;\n",
       "    }\n",
       "\n",
       "    .dataframe thead th {\n",
       "        text-align: right;\n",
       "    }\n",
       "</style>\n",
       "<table border=\"1\" class=\"dataframe\">\n",
       "  <thead>\n",
       "    <tr style=\"text-align: right;\">\n",
       "      <th></th>\n",
       "      <th>tweet_id</th>\n",
       "      <th>text</th>\n",
       "      <th>name</th>\n",
       "      <th>jpg_url</th>\n",
       "      <th>image_count</th>\n",
       "      <th>dog_stage</th>\n",
       "      <th>rating_numerator</th>\n",
       "      <th>rating_denominator</th>\n",
       "      <th>dog_breed_1</th>\n",
       "      <th>dog_breed_1_confidence</th>\n",
       "      <th>is_a_dog_1</th>\n",
       "      <th>dog_breed_2</th>\n",
       "      <th>dog_breed_2_confidence</th>\n",
       "      <th>is_a_dog_2</th>\n",
       "      <th>dog_breed_3</th>\n",
       "      <th>dog_breed_3_confidence</th>\n",
       "      <th>is_a_dog_3</th>\n",
       "      <th>retweet_count</th>\n",
       "      <th>favorite_count</th>\n",
       "      <th>timestamp</th>\n",
       "      <th>year</th>\n",
       "      <th>source</th>\n",
       "    </tr>\n",
       "  </thead>\n",
       "  <tbody>\n",
       "    <tr>\n",
       "      <th>0</th>\n",
       "      <td>892420643555336193</td>\n",
       "      <td>This is Phineas. He's a mystical boy. Only ever appears in the hole of a donut. 13/10 https://t.co/MgUWQ76dJU</td>\n",
       "      <td>Phineas</td>\n",
       "      <td>https://pbs.twimg.com/media/DGKD1-bXoAAIAUK.jpg</td>\n",
       "      <td>1</td>\n",
       "      <td>None</td>\n",
       "      <td>13</td>\n",
       "      <td>10</td>\n",
       "      <td>Orange</td>\n",
       "      <td>0.097049</td>\n",
       "      <td>False</td>\n",
       "      <td>Bagel</td>\n",
       "      <td>0.085851</td>\n",
       "      <td>NaN</td>\n",
       "      <td>Banana</td>\n",
       "      <td>0.076110</td>\n",
       "      <td>False</td>\n",
       "      <td>8853.0</td>\n",
       "      <td>39467.0</td>\n",
       "      <td>2017-08-01 16:23:56+00:00</td>\n",
       "      <td>2017</td>\n",
       "      <td>Twitter for iPhone</td>\n",
       "    </tr>\n",
       "    <tr>\n",
       "      <th>1</th>\n",
       "      <td>892177421306343426</td>\n",
       "      <td>This is Tilly. She's just checking pup on you. Hopes you're doing ok. If not, she's available for pats, snugs, boops, the whole bit. 13/10 https://t.co/0Xxu71qeIV</td>\n",
       "      <td>Tilly</td>\n",
       "      <td>https://pbs.twimg.com/media/DGGmoV4XsAAUL6n.jpg</td>\n",
       "      <td>1</td>\n",
       "      <td>None</td>\n",
       "      <td>13</td>\n",
       "      <td>10</td>\n",
       "      <td>Chihuahua</td>\n",
       "      <td>0.323581</td>\n",
       "      <td>True</td>\n",
       "      <td>Pekinese</td>\n",
       "      <td>0.090647</td>\n",
       "      <td>NaN</td>\n",
       "      <td>Papillon</td>\n",
       "      <td>0.068957</td>\n",
       "      <td>True</td>\n",
       "      <td>6514.0</td>\n",
       "      <td>33819.0</td>\n",
       "      <td>2017-08-01 00:17:27+00:00</td>\n",
       "      <td>2017</td>\n",
       "      <td>Twitter for iPhone</td>\n",
       "    </tr>\n",
       "    <tr>\n",
       "      <th>2</th>\n",
       "      <td>891815181378084864</td>\n",
       "      <td>This is Archie. He is a rare Norwegian Pouncing Corgo. Lives in the tall grass. You never know when one may strike. 12/10 https://t.co/wUnZnhtVJB</td>\n",
       "      <td>Archie</td>\n",
       "      <td>https://pbs.twimg.com/media/DGBdLU1WsAANxJ9.jpg</td>\n",
       "      <td>1</td>\n",
       "      <td>None</td>\n",
       "      <td>12</td>\n",
       "      <td>10</td>\n",
       "      <td>Chihuahua</td>\n",
       "      <td>0.716012</td>\n",
       "      <td>True</td>\n",
       "      <td>Malamute</td>\n",
       "      <td>0.078253</td>\n",
       "      <td>NaN</td>\n",
       "      <td>Kelpie</td>\n",
       "      <td>0.031379</td>\n",
       "      <td>True</td>\n",
       "      <td>4328.0</td>\n",
       "      <td>25461.0</td>\n",
       "      <td>2017-07-31 00:18:03+00:00</td>\n",
       "      <td>2017</td>\n",
       "      <td>Twitter for iPhone</td>\n",
       "    </tr>\n",
       "    <tr>\n",
       "      <th>3</th>\n",
       "      <td>891689557279858688</td>\n",
       "      <td>This is Darla. She commenced a snooze mid meal. 13/10 happens to the best of us https://t.co/tD36da7qLQ</td>\n",
       "      <td>Darla</td>\n",
       "      <td>https://pbs.twimg.com/media/DF_q7IAWsAEuuN8.jpg</td>\n",
       "      <td>1</td>\n",
       "      <td>None</td>\n",
       "      <td>13</td>\n",
       "      <td>10</td>\n",
       "      <td>Paper Towel</td>\n",
       "      <td>0.170278</td>\n",
       "      <td>False</td>\n",
       "      <td>Labrador Retriever</td>\n",
       "      <td>0.168086</td>\n",
       "      <td>NaN</td>\n",
       "      <td>Spatula</td>\n",
       "      <td>0.040836</td>\n",
       "      <td>False</td>\n",
       "      <td>8964.0</td>\n",
       "      <td>42908.0</td>\n",
       "      <td>2017-07-30 15:58:51+00:00</td>\n",
       "      <td>2017</td>\n",
       "      <td>Twitter for iPhone</td>\n",
       "    </tr>\n",
       "    <tr>\n",
       "      <th>4</th>\n",
       "      <td>891327558926688256</td>\n",
       "      <td>This is Franklin. He would like you to stop calling him \"cute.\" He is a very fierce shark and should be respected as such. 12/10 #BarkWeek https://t.co/AtUZn91f7f</td>\n",
       "      <td>Franklin</td>\n",
       "      <td>https://pbs.twimg.com/media/DF6hr6BUMAAzZgT.jpg</td>\n",
       "      <td>2</td>\n",
       "      <td>None</td>\n",
       "      <td>12</td>\n",
       "      <td>10</td>\n",
       "      <td>Basset</td>\n",
       "      <td>0.555712</td>\n",
       "      <td>True</td>\n",
       "      <td>English Springer</td>\n",
       "      <td>0.225770</td>\n",
       "      <td>NaN</td>\n",
       "      <td>German Short-Haired Pointer</td>\n",
       "      <td>0.175219</td>\n",
       "      <td>True</td>\n",
       "      <td>9774.0</td>\n",
       "      <td>41048.0</td>\n",
       "      <td>2017-07-29 16:00:24+00:00</td>\n",
       "      <td>2017</td>\n",
       "      <td>Twitter for iPhone</td>\n",
       "    </tr>\n",
       "  </tbody>\n",
       "</table>\n",
       "</div>"
      ],
      "text/plain": [
       "             tweet_id  \\\n",
       "0  892420643555336193   \n",
       "1  892177421306343426   \n",
       "2  891815181378084864   \n",
       "3  891689557279858688   \n",
       "4  891327558926688256   \n",
       "\n",
       "                                                                                                                                                                 text  \\\n",
       "0                                                       This is Phineas. He's a mystical boy. Only ever appears in the hole of a donut. 13/10 https://t.co/MgUWQ76dJU   \n",
       "1  This is Tilly. She's just checking pup on you. Hopes you're doing ok. If not, she's available for pats, snugs, boops, the whole bit. 13/10 https://t.co/0Xxu71qeIV   \n",
       "2                   This is Archie. He is a rare Norwegian Pouncing Corgo. Lives in the tall grass. You never know when one may strike. 12/10 https://t.co/wUnZnhtVJB   \n",
       "3                                                             This is Darla. She commenced a snooze mid meal. 13/10 happens to the best of us https://t.co/tD36da7qLQ   \n",
       "4  This is Franklin. He would like you to stop calling him \"cute.\" He is a very fierce shark and should be respected as such. 12/10 #BarkWeek https://t.co/AtUZn91f7f   \n",
       "\n",
       "       name                                          jpg_url  image_count  \\\n",
       "0   Phineas  https://pbs.twimg.com/media/DGKD1-bXoAAIAUK.jpg            1   \n",
       "1     Tilly  https://pbs.twimg.com/media/DGGmoV4XsAAUL6n.jpg            1   \n",
       "2    Archie  https://pbs.twimg.com/media/DGBdLU1WsAANxJ9.jpg            1   \n",
       "3     Darla  https://pbs.twimg.com/media/DF_q7IAWsAEuuN8.jpg            1   \n",
       "4  Franklin  https://pbs.twimg.com/media/DF6hr6BUMAAzZgT.jpg            2   \n",
       "\n",
       "  dog_stage  rating_numerator  rating_denominator  dog_breed_1  \\\n",
       "0      None                13                  10       Orange   \n",
       "1      None                13                  10    Chihuahua   \n",
       "2      None                12                  10    Chihuahua   \n",
       "3      None                13                  10  Paper Towel   \n",
       "4      None                12                  10       Basset   \n",
       "\n",
       "   dog_breed_1_confidence is_a_dog_1         dog_breed_2  \\\n",
       "0                0.097049      False               Bagel   \n",
       "1                0.323581       True            Pekinese   \n",
       "2                0.716012       True            Malamute   \n",
       "3                0.170278      False  Labrador Retriever   \n",
       "4                0.555712       True    English Springer   \n",
       "\n",
       "   dog_breed_2_confidence  is_a_dog_2                   dog_breed_3  \\\n",
       "0                0.085851          NaN                       Banana   \n",
       "1                0.090647          NaN                     Papillon   \n",
       "2                0.078253          NaN                       Kelpie   \n",
       "3                0.168086          NaN                      Spatula   \n",
       "4                0.225770          NaN  German Short-Haired Pointer   \n",
       "\n",
       "   dog_breed_3_confidence is_a_dog_3  retweet_count  favorite_count  \\\n",
       "0                0.076110      False         8853.0         39467.0   \n",
       "1                0.068957       True         6514.0         33819.0   \n",
       "2                0.031379       True         4328.0         25461.0   \n",
       "3                0.040836      False         8964.0         42908.0   \n",
       "4                0.175219       True         9774.0         41048.0   \n",
       "\n",
       "                  timestamp  year              source  \n",
       "0 2017-08-01 16:23:56+00:00  2017  Twitter for iPhone  \n",
       "1 2017-08-01 00:17:27+00:00  2017  Twitter for iPhone  \n",
       "2 2017-07-31 00:18:03+00:00  2017  Twitter for iPhone  \n",
       "3 2017-07-30 15:58:51+00:00  2017  Twitter for iPhone  \n",
       "4 2017-07-29 16:00:24+00:00  2017  Twitter for iPhone  "
      ]
     },
     "execution_count": 91,
     "metadata": {},
     "output_type": "execute_result"
    }
   ],
   "source": [
    "twitter_clean_data.head()"
   ]
  },
  {
   "cell_type": "code",
   "execution_count": null,
   "id": "c35ef55c-41fe-465f-ad5b-d217913342c0",
   "metadata": {},
   "outputs": [],
   "source": []
  },
  {
   "cell_type": "markdown",
   "id": "6b48dc3e-8cdf-4182-916e-efd055b68d4e",
   "metadata": {},
   "source": [
    "## STORING \n",
    "\n",
    "- Save gathered, assessed, and cleaned master dataset to a CSV file named \"twitter_archive_master.csv\""
   ]
  },
  {
   "cell_type": "code",
   "execution_count": 92,
   "id": "dda05883-994f-430d-bf49-48a13e71e497",
   "metadata": {
    "tags": []
   },
   "outputs": [
    {
     "data": {
      "text/html": [
       "<div>\n",
       "<style scoped>\n",
       "    .dataframe tbody tr th:only-of-type {\n",
       "        vertical-align: middle;\n",
       "    }\n",
       "\n",
       "    .dataframe tbody tr th {\n",
       "        vertical-align: top;\n",
       "    }\n",
       "\n",
       "    .dataframe thead th {\n",
       "        text-align: right;\n",
       "    }\n",
       "</style>\n",
       "<table border=\"1\" class=\"dataframe\">\n",
       "  <thead>\n",
       "    <tr style=\"text-align: right;\">\n",
       "      <th></th>\n",
       "      <th>tweet_id</th>\n",
       "      <th>text</th>\n",
       "      <th>name</th>\n",
       "      <th>jpg_url</th>\n",
       "      <th>image_count</th>\n",
       "      <th>dog_stage</th>\n",
       "      <th>rating_numerator</th>\n",
       "      <th>rating_denominator</th>\n",
       "      <th>dog_breed_1</th>\n",
       "      <th>dog_breed_1_confidence</th>\n",
       "      <th>is_a_dog_1</th>\n",
       "      <th>dog_breed_2</th>\n",
       "      <th>dog_breed_2_confidence</th>\n",
       "      <th>is_a_dog_2</th>\n",
       "      <th>dog_breed_3</th>\n",
       "      <th>dog_breed_3_confidence</th>\n",
       "      <th>is_a_dog_3</th>\n",
       "      <th>retweet_count</th>\n",
       "      <th>favorite_count</th>\n",
       "      <th>timestamp</th>\n",
       "      <th>year</th>\n",
       "      <th>source</th>\n",
       "    </tr>\n",
       "  </thead>\n",
       "  <tbody>\n",
       "    <tr>\n",
       "      <th>0</th>\n",
       "      <td>892420643555336193</td>\n",
       "      <td>This is Phineas. He's a mystical boy. Only ever appears in the hole of a donut. 13/10 https://t.co/MgUWQ76dJU</td>\n",
       "      <td>Phineas</td>\n",
       "      <td>https://pbs.twimg.com/media/DGKD1-bXoAAIAUK.jpg</td>\n",
       "      <td>1</td>\n",
       "      <td>None</td>\n",
       "      <td>13</td>\n",
       "      <td>10</td>\n",
       "      <td>Orange</td>\n",
       "      <td>0.097049</td>\n",
       "      <td>False</td>\n",
       "      <td>Bagel</td>\n",
       "      <td>0.085851</td>\n",
       "      <td>NaN</td>\n",
       "      <td>Banana</td>\n",
       "      <td>0.076110</td>\n",
       "      <td>False</td>\n",
       "      <td>8853.0</td>\n",
       "      <td>39467.0</td>\n",
       "      <td>2017-08-01 16:23:56+00:00</td>\n",
       "      <td>2017</td>\n",
       "      <td>Twitter for iPhone</td>\n",
       "    </tr>\n",
       "    <tr>\n",
       "      <th>1</th>\n",
       "      <td>892177421306343426</td>\n",
       "      <td>This is Tilly. She's just checking pup on you. Hopes you're doing ok. If not, she's available for pats, snugs, boops, the whole bit. 13/10 https://t.co/0Xxu71qeIV</td>\n",
       "      <td>Tilly</td>\n",
       "      <td>https://pbs.twimg.com/media/DGGmoV4XsAAUL6n.jpg</td>\n",
       "      <td>1</td>\n",
       "      <td>None</td>\n",
       "      <td>13</td>\n",
       "      <td>10</td>\n",
       "      <td>Chihuahua</td>\n",
       "      <td>0.323581</td>\n",
       "      <td>True</td>\n",
       "      <td>Pekinese</td>\n",
       "      <td>0.090647</td>\n",
       "      <td>NaN</td>\n",
       "      <td>Papillon</td>\n",
       "      <td>0.068957</td>\n",
       "      <td>True</td>\n",
       "      <td>6514.0</td>\n",
       "      <td>33819.0</td>\n",
       "      <td>2017-08-01 00:17:27+00:00</td>\n",
       "      <td>2017</td>\n",
       "      <td>Twitter for iPhone</td>\n",
       "    </tr>\n",
       "    <tr>\n",
       "      <th>2</th>\n",
       "      <td>891815181378084864</td>\n",
       "      <td>This is Archie. He is a rare Norwegian Pouncing Corgo. Lives in the tall grass. You never know when one may strike. 12/10 https://t.co/wUnZnhtVJB</td>\n",
       "      <td>Archie</td>\n",
       "      <td>https://pbs.twimg.com/media/DGBdLU1WsAANxJ9.jpg</td>\n",
       "      <td>1</td>\n",
       "      <td>None</td>\n",
       "      <td>12</td>\n",
       "      <td>10</td>\n",
       "      <td>Chihuahua</td>\n",
       "      <td>0.716012</td>\n",
       "      <td>True</td>\n",
       "      <td>Malamute</td>\n",
       "      <td>0.078253</td>\n",
       "      <td>NaN</td>\n",
       "      <td>Kelpie</td>\n",
       "      <td>0.031379</td>\n",
       "      <td>True</td>\n",
       "      <td>4328.0</td>\n",
       "      <td>25461.0</td>\n",
       "      <td>2017-07-31 00:18:03+00:00</td>\n",
       "      <td>2017</td>\n",
       "      <td>Twitter for iPhone</td>\n",
       "    </tr>\n",
       "    <tr>\n",
       "      <th>3</th>\n",
       "      <td>891689557279858688</td>\n",
       "      <td>This is Darla. She commenced a snooze mid meal. 13/10 happens to the best of us https://t.co/tD36da7qLQ</td>\n",
       "      <td>Darla</td>\n",
       "      <td>https://pbs.twimg.com/media/DF_q7IAWsAEuuN8.jpg</td>\n",
       "      <td>1</td>\n",
       "      <td>None</td>\n",
       "      <td>13</td>\n",
       "      <td>10</td>\n",
       "      <td>Paper Towel</td>\n",
       "      <td>0.170278</td>\n",
       "      <td>False</td>\n",
       "      <td>Labrador Retriever</td>\n",
       "      <td>0.168086</td>\n",
       "      <td>NaN</td>\n",
       "      <td>Spatula</td>\n",
       "      <td>0.040836</td>\n",
       "      <td>False</td>\n",
       "      <td>8964.0</td>\n",
       "      <td>42908.0</td>\n",
       "      <td>2017-07-30 15:58:51+00:00</td>\n",
       "      <td>2017</td>\n",
       "      <td>Twitter for iPhone</td>\n",
       "    </tr>\n",
       "    <tr>\n",
       "      <th>4</th>\n",
       "      <td>891327558926688256</td>\n",
       "      <td>This is Franklin. He would like you to stop calling him \"cute.\" He is a very fierce shark and should be respected as such. 12/10 #BarkWeek https://t.co/AtUZn91f7f</td>\n",
       "      <td>Franklin</td>\n",
       "      <td>https://pbs.twimg.com/media/DF6hr6BUMAAzZgT.jpg</td>\n",
       "      <td>2</td>\n",
       "      <td>None</td>\n",
       "      <td>12</td>\n",
       "      <td>10</td>\n",
       "      <td>Basset</td>\n",
       "      <td>0.555712</td>\n",
       "      <td>True</td>\n",
       "      <td>English Springer</td>\n",
       "      <td>0.225770</td>\n",
       "      <td>NaN</td>\n",
       "      <td>German Short-Haired Pointer</td>\n",
       "      <td>0.175219</td>\n",
       "      <td>True</td>\n",
       "      <td>9774.0</td>\n",
       "      <td>41048.0</td>\n",
       "      <td>2017-07-29 16:00:24+00:00</td>\n",
       "      <td>2017</td>\n",
       "      <td>Twitter for iPhone</td>\n",
       "    </tr>\n",
       "    <tr>\n",
       "      <th>...</th>\n",
       "      <td>...</td>\n",
       "      <td>...</td>\n",
       "      <td>...</td>\n",
       "      <td>...</td>\n",
       "      <td>...</td>\n",
       "      <td>...</td>\n",
       "      <td>...</td>\n",
       "      <td>...</td>\n",
       "      <td>...</td>\n",
       "      <td>...</td>\n",
       "      <td>...</td>\n",
       "      <td>...</td>\n",
       "      <td>...</td>\n",
       "      <td>...</td>\n",
       "      <td>...</td>\n",
       "      <td>...</td>\n",
       "      <td>...</td>\n",
       "      <td>...</td>\n",
       "      <td>...</td>\n",
       "      <td>...</td>\n",
       "      <td>...</td>\n",
       "      <td>...</td>\n",
       "    </tr>\n",
       "    <tr>\n",
       "      <th>1966</th>\n",
       "      <td>666049248165822465</td>\n",
       "      <td>Here we have a 1949 1st generation vulpix. Enjoys sweat tea and Fox News. Cannot be phased. 5/10 https://t.co/4B7cOc1EDq</td>\n",
       "      <td>None</td>\n",
       "      <td>https://pbs.twimg.com/media/CT5IQmsXIAAKY4A.jpg</td>\n",
       "      <td>1</td>\n",
       "      <td>None</td>\n",
       "      <td>5</td>\n",
       "      <td>10</td>\n",
       "      <td>Miniature Pinscher</td>\n",
       "      <td>0.560311</td>\n",
       "      <td>True</td>\n",
       "      <td>Rottweiler</td>\n",
       "      <td>0.243682</td>\n",
       "      <td>NaN</td>\n",
       "      <td>Doberman</td>\n",
       "      <td>0.154629</td>\n",
       "      <td>True</td>\n",
       "      <td>41.0</td>\n",
       "      <td>111.0</td>\n",
       "      <td>2015-11-16 00:24:50+00:00</td>\n",
       "      <td>2015</td>\n",
       "      <td>Twitter for iPhone</td>\n",
       "    </tr>\n",
       "    <tr>\n",
       "      <th>1967</th>\n",
       "      <td>666044226329800704</td>\n",
       "      <td>This is a purebred Piers Morgan. Loves to Netflix and chill. Always looks like he forgot to unplug the iron. 6/10 https://t.co/DWnyCjf2mx</td>\n",
       "      <td>None</td>\n",
       "      <td>https://pbs.twimg.com/media/CT5Dr8HUEAA-lEu.jpg</td>\n",
       "      <td>1</td>\n",
       "      <td>None</td>\n",
       "      <td>6</td>\n",
       "      <td>10</td>\n",
       "      <td>Rhodesian Ridgeback</td>\n",
       "      <td>0.408143</td>\n",
       "      <td>True</td>\n",
       "      <td>Redbone</td>\n",
       "      <td>0.360687</td>\n",
       "      <td>NaN</td>\n",
       "      <td>Miniature Pinscher</td>\n",
       "      <td>0.222752</td>\n",
       "      <td>True</td>\n",
       "      <td>147.0</td>\n",
       "      <td>311.0</td>\n",
       "      <td>2015-11-16 00:04:52+00:00</td>\n",
       "      <td>2015</td>\n",
       "      <td>Twitter for iPhone</td>\n",
       "    </tr>\n",
       "    <tr>\n",
       "      <th>1968</th>\n",
       "      <td>666033412701032449</td>\n",
       "      <td>Here is a very happy pup. Big fan of well-maintained decks. Just look at that tongue. 9/10 would cuddle af https://t.co/y671yMhoiR</td>\n",
       "      <td>None</td>\n",
       "      <td>https://pbs.twimg.com/media/CT4521TWwAEvMyu.jpg</td>\n",
       "      <td>1</td>\n",
       "      <td>None</td>\n",
       "      <td>9</td>\n",
       "      <td>10</td>\n",
       "      <td>German Shepherd</td>\n",
       "      <td>0.596461</td>\n",
       "      <td>True</td>\n",
       "      <td>Malinois</td>\n",
       "      <td>0.138584</td>\n",
       "      <td>NaN</td>\n",
       "      <td>Bloodhound</td>\n",
       "      <td>0.116197</td>\n",
       "      <td>True</td>\n",
       "      <td>47.0</td>\n",
       "      <td>128.0</td>\n",
       "      <td>2015-11-15 23:21:54+00:00</td>\n",
       "      <td>2015</td>\n",
       "      <td>Twitter for iPhone</td>\n",
       "    </tr>\n",
       "    <tr>\n",
       "      <th>1969</th>\n",
       "      <td>666029285002620928</td>\n",
       "      <td>This is a western brown Mitsubishi terrier. Upset about leaf. Actually 2 dogs here. 7/10 would walk the shit out of https://t.co/r7mOb2m0UI</td>\n",
       "      <td>None</td>\n",
       "      <td>https://pbs.twimg.com/media/CT42GRgUYAA5iDo.jpg</td>\n",
       "      <td>1</td>\n",
       "      <td>None</td>\n",
       "      <td>7</td>\n",
       "      <td>10</td>\n",
       "      <td>Redbone</td>\n",
       "      <td>0.506826</td>\n",
       "      <td>True</td>\n",
       "      <td>Miniature Pinscher</td>\n",
       "      <td>0.074192</td>\n",
       "      <td>NaN</td>\n",
       "      <td>Rhodesian Ridgeback</td>\n",
       "      <td>0.072010</td>\n",
       "      <td>True</td>\n",
       "      <td>48.0</td>\n",
       "      <td>132.0</td>\n",
       "      <td>2015-11-15 23:05:30+00:00</td>\n",
       "      <td>2015</td>\n",
       "      <td>Twitter for iPhone</td>\n",
       "    </tr>\n",
       "    <tr>\n",
       "      <th>1970</th>\n",
       "      <td>666020888022790149</td>\n",
       "      <td>Here we have a Japanese Irish Setter. Lost eye in Vietnam (?). Big fan of relaxing on stair. 8/10 would pet https://t.co/BLDqew2Ijj</td>\n",
       "      <td>None</td>\n",
       "      <td>https://pbs.twimg.com/media/CT4udn0WwAA0aMy.jpg</td>\n",
       "      <td>1</td>\n",
       "      <td>None</td>\n",
       "      <td>8</td>\n",
       "      <td>10</td>\n",
       "      <td>Welsh Springer Spaniel</td>\n",
       "      <td>0.465074</td>\n",
       "      <td>True</td>\n",
       "      <td>Collie</td>\n",
       "      <td>0.156665</td>\n",
       "      <td>NaN</td>\n",
       "      <td>Shetland Sheepdog</td>\n",
       "      <td>0.061428</td>\n",
       "      <td>True</td>\n",
       "      <td>532.0</td>\n",
       "      <td>2535.0</td>\n",
       "      <td>2015-11-15 22:32:08+00:00</td>\n",
       "      <td>2015</td>\n",
       "      <td>Twitter for iPhone</td>\n",
       "    </tr>\n",
       "  </tbody>\n",
       "</table>\n",
       "<p>1971 rows × 22 columns</p>\n",
       "</div>"
      ],
      "text/plain": [
       "                tweet_id  \\\n",
       "0     892420643555336193   \n",
       "1     892177421306343426   \n",
       "2     891815181378084864   \n",
       "3     891689557279858688   \n",
       "4     891327558926688256   \n",
       "...                  ...   \n",
       "1966  666049248165822465   \n",
       "1967  666044226329800704   \n",
       "1968  666033412701032449   \n",
       "1969  666029285002620928   \n",
       "1970  666020888022790149   \n",
       "\n",
       "                                                                                                                                                                    text  \\\n",
       "0                                                          This is Phineas. He's a mystical boy. Only ever appears in the hole of a donut. 13/10 https://t.co/MgUWQ76dJU   \n",
       "1     This is Tilly. She's just checking pup on you. Hopes you're doing ok. If not, she's available for pats, snugs, boops, the whole bit. 13/10 https://t.co/0Xxu71qeIV   \n",
       "2                      This is Archie. He is a rare Norwegian Pouncing Corgo. Lives in the tall grass. You never know when one may strike. 12/10 https://t.co/wUnZnhtVJB   \n",
       "3                                                                This is Darla. She commenced a snooze mid meal. 13/10 happens to the best of us https://t.co/tD36da7qLQ   \n",
       "4     This is Franklin. He would like you to stop calling him \"cute.\" He is a very fierce shark and should be respected as such. 12/10 #BarkWeek https://t.co/AtUZn91f7f   \n",
       "...                                                                                                                                                                  ...   \n",
       "1966                                            Here we have a 1949 1st generation vulpix. Enjoys sweat tea and Fox News. Cannot be phased. 5/10 https://t.co/4B7cOc1EDq   \n",
       "1967                           This is a purebred Piers Morgan. Loves to Netflix and chill. Always looks like he forgot to unplug the iron. 6/10 https://t.co/DWnyCjf2mx   \n",
       "1968                                  Here is a very happy pup. Big fan of well-maintained decks. Just look at that tongue. 9/10 would cuddle af https://t.co/y671yMhoiR   \n",
       "1969                         This is a western brown Mitsubishi terrier. Upset about leaf. Actually 2 dogs here. 7/10 would walk the shit out of https://t.co/r7mOb2m0UI   \n",
       "1970                                 Here we have a Japanese Irish Setter. Lost eye in Vietnam (?). Big fan of relaxing on stair. 8/10 would pet https://t.co/BLDqew2Ijj   \n",
       "\n",
       "          name                                          jpg_url  image_count  \\\n",
       "0      Phineas  https://pbs.twimg.com/media/DGKD1-bXoAAIAUK.jpg            1   \n",
       "1        Tilly  https://pbs.twimg.com/media/DGGmoV4XsAAUL6n.jpg            1   \n",
       "2       Archie  https://pbs.twimg.com/media/DGBdLU1WsAANxJ9.jpg            1   \n",
       "3        Darla  https://pbs.twimg.com/media/DF_q7IAWsAEuuN8.jpg            1   \n",
       "4     Franklin  https://pbs.twimg.com/media/DF6hr6BUMAAzZgT.jpg            2   \n",
       "...        ...                                              ...          ...   \n",
       "1966      None  https://pbs.twimg.com/media/CT5IQmsXIAAKY4A.jpg            1   \n",
       "1967      None  https://pbs.twimg.com/media/CT5Dr8HUEAA-lEu.jpg            1   \n",
       "1968      None  https://pbs.twimg.com/media/CT4521TWwAEvMyu.jpg            1   \n",
       "1969      None  https://pbs.twimg.com/media/CT42GRgUYAA5iDo.jpg            1   \n",
       "1970      None  https://pbs.twimg.com/media/CT4udn0WwAA0aMy.jpg            1   \n",
       "\n",
       "     dog_stage  rating_numerator  rating_denominator             dog_breed_1  \\\n",
       "0         None                13                  10                  Orange   \n",
       "1         None                13                  10               Chihuahua   \n",
       "2         None                12                  10               Chihuahua   \n",
       "3         None                13                  10             Paper Towel   \n",
       "4         None                12                  10                  Basset   \n",
       "...        ...               ...                 ...                     ...   \n",
       "1966      None                 5                  10      Miniature Pinscher   \n",
       "1967      None                 6                  10     Rhodesian Ridgeback   \n",
       "1968      None                 9                  10         German Shepherd   \n",
       "1969      None                 7                  10                 Redbone   \n",
       "1970      None                 8                  10  Welsh Springer Spaniel   \n",
       "\n",
       "      dog_breed_1_confidence  is_a_dog_1         dog_breed_2  \\\n",
       "0                   0.097049       False               Bagel   \n",
       "1                   0.323581        True            Pekinese   \n",
       "2                   0.716012        True            Malamute   \n",
       "3                   0.170278       False  Labrador Retriever   \n",
       "4                   0.555712        True    English Springer   \n",
       "...                      ...         ...                 ...   \n",
       "1966                0.560311        True          Rottweiler   \n",
       "1967                0.408143        True             Redbone   \n",
       "1968                0.596461        True            Malinois   \n",
       "1969                0.506826        True  Miniature Pinscher   \n",
       "1970                0.465074        True              Collie   \n",
       "\n",
       "      dog_breed_2_confidence  is_a_dog_2                   dog_breed_3  \\\n",
       "0                   0.085851          NaN                       Banana   \n",
       "1                   0.090647          NaN                     Papillon   \n",
       "2                   0.078253          NaN                       Kelpie   \n",
       "3                   0.168086          NaN                      Spatula   \n",
       "4                   0.225770          NaN  German Short-Haired Pointer   \n",
       "...                      ...          ...                          ...   \n",
       "1966                0.243682          NaN                     Doberman   \n",
       "1967                0.360687          NaN           Miniature Pinscher   \n",
       "1968                0.138584          NaN                   Bloodhound   \n",
       "1969                0.074192          NaN          Rhodesian Ridgeback   \n",
       "1970                0.156665          NaN            Shetland Sheepdog   \n",
       "\n",
       "      dog_breed_3_confidence  is_a_dog_3  retweet_count  favorite_count  \\\n",
       "0                   0.076110       False         8853.0         39467.0   \n",
       "1                   0.068957        True         6514.0         33819.0   \n",
       "2                   0.031379        True         4328.0         25461.0   \n",
       "3                   0.040836       False         8964.0         42908.0   \n",
       "4                   0.175219        True         9774.0         41048.0   \n",
       "...                      ...         ...            ...             ...   \n",
       "1966                0.154629        True           41.0           111.0   \n",
       "1967                0.222752        True          147.0           311.0   \n",
       "1968                0.116197        True           47.0           128.0   \n",
       "1969                0.072010        True           48.0           132.0   \n",
       "1970                0.061428        True          532.0          2535.0   \n",
       "\n",
       "                      timestamp  year              source  \n",
       "0     2017-08-01 16:23:56+00:00  2017  Twitter for iPhone  \n",
       "1     2017-08-01 00:17:27+00:00  2017  Twitter for iPhone  \n",
       "2     2017-07-31 00:18:03+00:00  2017  Twitter for iPhone  \n",
       "3     2017-07-30 15:58:51+00:00  2017  Twitter for iPhone  \n",
       "4     2017-07-29 16:00:24+00:00  2017  Twitter for iPhone  \n",
       "...                         ...   ...                 ...  \n",
       "1966  2015-11-16 00:24:50+00:00  2015  Twitter for iPhone  \n",
       "1967  2015-11-16 00:04:52+00:00  2015  Twitter for iPhone  \n",
       "1968  2015-11-15 23:21:54+00:00  2015  Twitter for iPhone  \n",
       "1969  2015-11-15 23:05:30+00:00  2015  Twitter for iPhone  \n",
       "1970  2015-11-15 22:32:08+00:00  2015  Twitter for iPhone  \n",
       "\n",
       "[1971 rows x 22 columns]"
      ]
     },
     "execution_count": 92,
     "metadata": {},
     "output_type": "execute_result"
    }
   ],
   "source": [
    "twitter_clean_data.to_csv('twitter_archive_master.csv', index=False)\n",
    "pd.read_csv('twitter_archive_master.csv')"
   ]
  },
  {
   "cell_type": "code",
   "execution_count": null,
   "id": "e176aec5-92b3-42f7-af76-a7aa41a54705",
   "metadata": {},
   "outputs": [],
   "source": []
  },
  {
   "cell_type": "markdown",
   "id": "e2319d01-5841-44be-b09c-829ca1d745fb",
   "metadata": {},
   "source": [
    "## ANALYZING"
   ]
  },
  {
   "cell_type": "markdown",
   "id": "7f2c890c-bde0-43d0-9c37-eb3347b7df08",
   "metadata": {},
   "source": [
    "#### Insight 1\n",
    "\n",
    "- The dog's popularity has increased in the last couple years. In 2016, 1,632,442 people has an interaction with a dog related tweet. This amount increase to 7,480,034 in 2016, and 8,526,213 in 2017."
   ]
  },
  {
   "cell_type": "code",
   "execution_count": 93,
   "id": "8f1e7629-912d-4b2a-a592-e6a2c828a815",
   "metadata": {},
   "outputs": [
    {
     "data": {
      "text/plain": [
       "year\n",
       "2015    1632442.0\n",
       "2016    7480034.0\n",
       "2017    8526213.0\n",
       "Name: favorite_count, dtype: float64"
      ]
     },
     "execution_count": 93,
     "metadata": {},
     "output_type": "execute_result"
    }
   ],
   "source": [
    "dogs_popularity = twitter_clean_data.groupby('year')['favorite_count'].sum()\n",
    "dogs_popularity"
   ]
  },
  {
   "cell_type": "code",
   "execution_count": 94,
   "id": "15e59ce6-bd8a-46f2-8e61-66455276d1ed",
   "metadata": {},
   "outputs": [
    {
     "data": {
      "image/png": "[encoded data removed]",
      "text/plain": [
       "<Figure size 432x288 with 1 Axes>"
      ]
     },
     "metadata": {
      "needs_background": "light"
     },
     "output_type": "display_data"
    }
   ],
   "source": [
    "dogs_popularity.plot(kind = 'bar')\n",
    "\n",
    "plt.title(\"Dog's Popularity by Year\", fontweight = 'bold')\n",
    "plt.xlabel(\"Year\")\n",
    "plt.ylabel(\"Favorite Count (millions)\")\n",
    "plt.savefig('output.png', dpi=300)\n",
    "plt.show()\n"
   ]
  },
  {
   "cell_type": "markdown",
   "id": "18cf035a-d7ac-4b35-8941-363c9d22a500",
   "metadata": {},
   "source": [
    "### Insight 2\n",
    "\n",
    "- The top 5 popular name in this dataset are 11 Dogs named Charlie, and a tidy rank for Lucy, Cooper, Oliver with 10 dogs each. In this dataset, we have an outlier for tweets without a dog name. This represent about 31.56% of the tweets."
   ]
  },
  {
   "cell_type": "code",
   "execution_count": 95,
   "id": "6174855e-343c-4ea8-bf38-293d9de7a8e2",
   "metadata": {},
   "outputs": [
    {
     "data": {
      "text/plain": [
       "None       622\n",
       "Charlie     11\n",
       "Lucy        10\n",
       "Cooper      10\n",
       "Oliver      10\n",
       "Name: name, dtype: int64"
      ]
     },
     "execution_count": 95,
     "metadata": {},
     "output_type": "execute_result"
    }
   ],
   "source": [
    "top_5_name = twitter_clean_data['name'].value_counts() \n",
    "top_5_name = top_5_name.head()\n",
    "top_5_name"
   ]
  },
  {
   "cell_type": "code",
   "execution_count": 96,
   "id": "8b2cb514-5769-43ea-8d43-279424e9301e",
   "metadata": {},
   "outputs": [
    {
     "data": {
      "text/plain": [
       "None       31.56\n",
       "Charlie     0.56\n",
       "Lucy        0.51\n",
       "Cooper      0.51\n",
       "Oliver      0.51\n",
       "Name: name, dtype: float64"
      ]
     },
     "execution_count": 96,
     "metadata": {},
     "output_type": "execute_result"
    }
   ],
   "source": [
    "proportion = top_5_name /  twitter_clean_data['name'].count() * 100\n",
    "rounded_proportion = round(proportion, 2)\n",
    "top_5_rounded_proportion = rounded_proportion.head()\n",
    "top_5_rounded_proportion "
   ]
  },
  {
   "cell_type": "code",
   "execution_count": 102,
   "id": "f682959c-7f17-4342-8c99-e21cfb00fd3a",
   "metadata": {},
   "outputs": [
    {
     "data": {
      "image/png": "[encoded data removed]",
      "text/plain": [
       "<Figure size 432x288 with 1 Axes>"
      ]
     },
     "metadata": {
      "needs_background": "light"
     },
     "output_type": "display_data"
    }
   ],
   "source": [
    "top_5_name.plot(kind = 'bar')\n",
    "\n",
    "plt.title(\"Top Dog's Name\", fontweight = 'bold')\n",
    "plt.xlabel(\"Name\")\n",
    "plt.ylabel(\"Count\")\n",
    "\n",
    "plt.savefig('dogsname.png', dpi=300)\n",
    "plt.show()\n"
   ]
  },
  {
   "cell_type": "code",
   "execution_count": 103,
   "id": "001d07b4-7e72-41a8-b234-060a945f3f1c",
   "metadata": {},
   "outputs": [
    {
     "data": {
      "image/png": "[encoded data removed]",
      "text/plain": [
       "<Figure size 432x288 with 1 Axes>"
      ]
     },
     "metadata": {},
     "output_type": "display_data"
    }
   ],
   "source": [
    "labels = ['31.56%', '0.56%', '0.51%', '0.51%', '0.51%']\n",
    "plt.pie(top_5_rounded_proportion, labels = labels)\n",
    "plt.title(\"Proportion of Dog's Name\", fontweight = 'bold')\n",
    "plt.savefig('proportion1.png', dpi=300)\n",
    "plt.show()"
   ]
  },
  {
   "cell_type": "code",
   "execution_count": null,
   "id": "80dd061a-870e-4408-8049-426875494846",
   "metadata": {},
   "outputs": [],
   "source": [
    "\n"
   ]
  },
  {
   "cell_type": "markdown",
   "id": "fa99cd92-1fab-470e-8e31-1947ac457992",
   "metadata": {},
   "source": [
    "### Insight 3\n",
    "\n",
    "- The most common breed in this dataset is Golden Retriever with 137 dogs, follow for Labrador Retriever with 94."
   ]
  },
  {
   "cell_type": "code",
   "execution_count": 98,
   "id": "5eff7497-081e-4e1d-bd76-79cf6273ce60",
   "metadata": {},
   "outputs": [],
   "source": [
    "dog_stage_popularity = twitter_clean_data['dog_breed_1'].value_counts()"
   ]
  },
  {
   "cell_type": "code",
   "execution_count": 99,
   "id": "e82edd90-aa7d-42f4-a7d5-0f3380e44b22",
   "metadata": {},
   "outputs": [
    {
     "data": {
      "text/plain": [
       "Golden Retriever      137\n",
       "Labrador Retriever     94\n",
       "Pembroke               88\n",
       "Chihuahua              78\n",
       "Pug                    54\n",
       "Name: dog_breed_1, dtype: int64"
      ]
     },
     "execution_count": 99,
     "metadata": {},
     "output_type": "execute_result"
    }
   ],
   "source": [
    "Most_common_breed = dog_stage_popularity.head()\n",
    "Most_common_breed"
   ]
  },
  {
   "cell_type": "code",
   "execution_count": null,
   "id": "15b30e8a-194b-4ec3-84c2-9c07217280de",
   "metadata": {},
   "outputs": [],
   "source": []
  }
 ],
 "metadata": {
  "kernelspec": {
   "display_name": "Python 3 (ipykernel)",
   "language": "python",
   "name": "python3"
  },
  "language_info": {
   "codemirror_mode": {
    "name": "ipython",
    "version": 3
   },
   "file_extension": ".py",
   "mimetype": "text/x-python",
   "name": "python",
   "nbconvert_exporter": "python",
   "pygments_lexer": "ipython3",
   "version": "3.10.5"
  }
 },
 "nbformat": 4,
 "nbformat_minor": 5
}
